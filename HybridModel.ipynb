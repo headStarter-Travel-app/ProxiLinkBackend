{
  "nbformat": 4,
  "nbformat_minor": 0,
  "metadata": {
    "colab": {
      "provenance": []
    },
    "kernelspec": {
      "name": "python3",
      "display_name": "Python 3"
    },
    "language_info": {
      "name": "python"
    }
  },
  "cells": [
    {
      "cell_type": "code",
      "execution_count": 1,
      "metadata": {
        "id": "KXo4MjQkmtKj"
      },
      "outputs": [],
      "source": [
        "import pandas as pd\n",
        "import torch\n",
        "import torch.nn as nn\n",
        "from sklearn.preprocessing import LabelEncoder\n",
        "from sklearn.model_selection import train_test_split\n",
        "from sklearn.metrics.pairwise import cosine_similarity\n",
        "from scipy.sparse.linalg import svds\n",
        "import numpy as np"
      ]
    },
    {
      "cell_type": "code",
      "source": [
        "data = {\n",
        "    \"place\": [\"Place1\", \"Place2\", \"Place3\", \"Place4\"],\n",
        "    \"type\": [\"restaurant\", \"park\", \"museum\", \"restaurant\"],\n",
        "    \"cuisine\": [\"Italian\", \"\", \"\", \"Chinese\"],\n",
        "    \"location\": [\"downtown\", \"suburbs\", \"downtown\", \"midtown\"],\n",
        "    \"price_range\": [\"moderate\", \"free\", \"expensive\", \"cheap\"],\n",
        "    \"rating\": [4.5, 4.7, 4.2, 4.0]\n",
        "}\n",
        "df = pd.DataFrame(data)"
      ],
      "metadata": {
        "id": "opNKlpN2ndGO"
      },
      "execution_count": 2,
      "outputs": []
    },
    {
      "cell_type": "code",
      "source": [
        "user_profile = {\n",
        "    \"type\": \"restaurant\",\n",
        "    \"cuisine\": \"Italian\",\n",
        "    \"location\": \"downtown\",\n",
        "    \"price_range\": \"moderate\"\n",
        "}"
      ],
      "metadata": {
        "id": "sDmqHeBnnpwR"
      },
      "execution_count": 3,
      "outputs": []
    },
    {
      "cell_type": "code",
      "source": [
        "le_type = LabelEncoder()\n",
        "le_cuisine = LabelEncoder()\n",
        "le_location = LabelEncoder()\n",
        "le_price_range = LabelEncoder()\n",
        "df['type'] = le_type.fit_transform(df['type'])\n",
        "df['cuisine'] = le_cuisine.fit_transform(df['cuisine'])\n",
        "df['location'] = le_location.fit_transform(df['location'])\n",
        "df['price_range'] = le_price_range.fit_transform(df['price_range'])"
      ],
      "metadata": {
        "id": "7pOFKQO5nuYM"
      },
      "execution_count": null,
      "outputs": []
    }
  ]
}