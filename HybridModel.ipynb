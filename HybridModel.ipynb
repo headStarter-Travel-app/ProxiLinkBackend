{
  "cells": [
    {
      "cell_type": "code",
      "execution_count": 11,
      "metadata": {
        "id": "KXo4MjQkmtKj"
      },
      "outputs": [],
      "source": [
        "import pandas as pd\n",
        "import torch\n",
        "import torch.nn as nn\n",
        "from sklearn.preprocessing import LabelEncoder\n",
        "from sklearn.model_selection import train_test_split\n",
        "\n",
        "from sklearn.metrics.pairwise import cosine_similarity\n",
        "from scipy.sparse.linalg import svds\n",
        "import numpy as np"
      ]
    },
    {
      "cell_type": "code",
      "execution_count": 15,
      "metadata": {
        "id": "opNKlpN2ndGO"
      },
      "outputs": [
        {
          "data": {
            "text/html": [
              "<div>\n",
              "<style scoped>\n",
              "    .dataframe tbody tr th:only-of-type {\n",
              "        vertical-align: middle;\n",
              "    }\n",
              "\n",
              "    .dataframe tbody tr th {\n",
              "        vertical-align: top;\n",
              "    }\n",
              "\n",
              "    .dataframe thead th {\n",
              "        text-align: right;\n",
              "    }\n",
              "</style>\n",
              "<table border=\"1\" class=\"dataframe\">\n",
              "  <thead>\n",
              "    <tr style=\"text-align: right;\">\n",
              "      <th></th>\n",
              "      <th>name</th>\n",
              "      <th>address</th>\n",
              "      <th>location</th>\n",
              "      <th>category</th>\n",
              "      <th>category2</th>\n",
              "    </tr>\n",
              "  </thead>\n",
              "  <tbody>\n",
              "    <tr>\n",
              "      <th>0</th>\n",
              "      <td>Potomac Pizza</td>\n",
              "      <td>7777 Baltimore Ave, College Park, MD  20740, U...</td>\n",
              "      <td>{'lat': 38.9873178, 'lon': -76.9356036}</td>\n",
              "      <td>Restaurant</td>\n",
              "      <td>Italian food</td>\n",
              "    </tr>\n",
              "    <tr>\n",
              "      <th>1</th>\n",
              "      <td>Wasabi Bistro Japanese Food &amp; Bubble Tea</td>\n",
              "      <td>4505 College Ave, College Park, MD  20740, Uni...</td>\n",
              "      <td>{'lat': 38.9818553, 'lon': -76.9373256}</td>\n",
              "      <td>Restaurant</td>\n",
              "      <td>Japanese food</td>\n",
              "    </tr>\n",
              "    <tr>\n",
              "      <th>2</th>\n",
              "      <td>Qù Japan</td>\n",
              "      <td>7406 Baltimore Ave, College Park, MD  20740, U...</td>\n",
              "      <td>{'lat': 38.9811565, 'lon': -76.9380815}</td>\n",
              "      <td>Restaurant</td>\n",
              "      <td>Japanese food</td>\n",
              "    </tr>\n",
              "    <tr>\n",
              "      <th>3</th>\n",
              "      <td>College Park Shopping Center</td>\n",
              "      <td>7370 Baltimore Ave, College Park, MD  20740, U...</td>\n",
              "      <td>{'lat': 38.9806676, 'lon': -76.9390872}</td>\n",
              "      <td>Store</td>\n",
              "      <td>shopping</td>\n",
              "    </tr>\n",
              "  </tbody>\n",
              "</table>\n",
              "</div>"
            ],
            "text/plain": [
              "                                       name  \\\n",
              "0                             Potomac Pizza   \n",
              "1  Wasabi Bistro Japanese Food & Bubble Tea   \n",
              "2                                  Qù Japan   \n",
              "3              College Park Shopping Center   \n",
              "\n",
              "                                             address  \\\n",
              "0  7777 Baltimore Ave, College Park, MD  20740, U...   \n",
              "1  4505 College Ave, College Park, MD  20740, Uni...   \n",
              "2  7406 Baltimore Ave, College Park, MD  20740, U...   \n",
              "3  7370 Baltimore Ave, College Park, MD  20740, U...   \n",
              "\n",
              "                                  location    category      category2  \n",
              "0  {'lat': 38.9873178, 'lon': -76.9356036}  Restaurant   Italian food  \n",
              "1  {'lat': 38.9818553, 'lon': -76.9373256}  Restaurant  Japanese food  \n",
              "2  {'lat': 38.9811565, 'lon': -76.9380815}  Restaurant  Japanese food  \n",
              "3  {'lat': 38.9806676, 'lon': -76.9390872}       Store       shopping  "
            ]
          },
          "execution_count": 15,
          "metadata": {},
          "output_type": "execute_result"
        }
      ],
      "source": [
        "\n",
        "\n",
        "\n",
        "data = [{\n",
        "    \"name\": \"Potomac Pizza\",\n",
        "    \"address\": \"7777 Baltimore Ave, College Park, MD  20740, United States\",\n",
        "    \"location\": {\n",
        "      \"lat\": 38.9873178,\n",
        "      \"lon\": -76.9356036\n",
        "    },\n",
        "    \"category\": \"Restaurant\",\n",
        "    \"category2\": \"Italian food\"\n",
        "},\n",
        "{\n",
        "\"name\": \"Wasabi Bistro Japanese Food & Bubble Tea\",\n",
        "\"address\": \"4505 College Ave, College Park, MD  20740, United States\",\n",
        "\"location\": {\n",
        "    \"lat\": 38.9818553,\n",
        "    \"lon\": -76.9373256\n",
        "},\n",
        "\"category\": \"Restaurant\",\n",
        "\"category2\": \"Japanese food\"\n",
        "},\n",
        "{\n",
        "\"name\": \"Q\\u00f9 Japan\",\n",
        "\"address\": \"7406 Baltimore Ave, College Park, MD  20740, United States\",\n",
        "\"location\": {\n",
        "    \"lat\": 38.9811565,\n",
        "    \"lon\": -76.9380815\n",
        "},\n",
        "\"category\": \"Restaurant\",\n",
        "\"category2\": \"Japanese food\"\n",
        "},\n",
        "{\n",
        "\"name\": \"College Park Shopping Center\",\n",
        "\"address\": \"7370 Baltimore Ave, College Park, MD  20740, United States\",\n",
        "\"location\": {\n",
        "    \"lat\": 38.9806676,\n",
        "    \"lon\": -76.9390872\n",
        "},\n",
        "\"category\": \"Store\",\n",
        "\"category2\": \"shopping\"\n",
        "},]\n",
        "df = pd.DataFrame(data)\n",
        "df"
      ]
    },
    {
      "cell_type": "code",
      "execution_count": 16,
      "metadata": {
        "id": "sDmqHeBnnpwR"
      },
      "outputs": [],
      "source": [
        "\n",
        "user_profile = {'user_id': '66996b7b0025b402922b', 'cuisine': ['Japanese', 'Italian'], 'atmosphere': ['Cozy'], 'entertainment': ['Arcade', 'Parks'], 'socializing': 'BOTH', 'Time': ['MORNING'], 'shopping': 'YES', 'family_friendly': True, 'learning': ['Culture'], 'sports': ['Golf'], '$id': '66996b7b0025b402922b', '$tenant': '168138', '$createdAt': '2024-07-18T19:31:11.173+00:00', '$updatedAt': '2024-07-20T19:16:56.252+00:00', '$permissions': [], 'users': {'email': 'Nagelia.naman@gmail.com', 'uid': '66996b7b0025b402922b', 'firstName': 'Naman', 'lastName': 'Nagelia', 'address': None, 'premium': False, 'monthly_uses': 5, 'friends': ['66996d2e00314baa2a20', '669ea8a0002fd0a07a97', '66a850af002730eadb39', '66a05a77002bacd6dad0', '66a58e55001acebf9f51'], 'receivedRequests': [], 'sentRequests': ['669b45980030c00f3b8c', '669c735c001355ea24a7'], '$id': '66996b7b0025b402922b', '$tenant': '168138', '$createdAt': '2024-07-18T19:22:37.018+00:00', '$updatedAt': '2024-07-31T18:48:29.871+00:00', '$permissions': [], '$databaseId': '66930e1000087eb0d4bd', '$collectionId': '66930e5900107bc194dc'}, '$databaseId': '66930e1000087eb0d4bd', '$collectionId': '6696016b00117bbf6352'}\n"
      ]
    },
    {
      "cell_type": "code",
      "execution_count": 19,
      "metadata": {
        "id": "7pOFKQO5nuYM"
      },
      "outputs": [
        {
          "data": {
            "text/html": [
              "<div>\n",
              "<style scoped>\n",
              "    .dataframe tbody tr th:only-of-type {\n",
              "        vertical-align: middle;\n",
              "    }\n",
              "\n",
              "    .dataframe tbody tr th {\n",
              "        vertical-align: top;\n",
              "    }\n",
              "\n",
              "    .dataframe thead th {\n",
              "        text-align: right;\n",
              "    }\n",
              "</style>\n",
              "<table border=\"1\" class=\"dataframe\">\n",
              "  <thead>\n",
              "    <tr style=\"text-align: right;\">\n",
              "      <th></th>\n",
              "      <th>name</th>\n",
              "      <th>address</th>\n",
              "      <th>category</th>\n",
              "      <th>category2</th>\n",
              "      <th>location_lat</th>\n",
              "      <th>location_lon</th>\n",
              "    </tr>\n",
              "  </thead>\n",
              "  <tbody>\n",
              "    <tr>\n",
              "      <th>0</th>\n",
              "      <td>1</td>\n",
              "      <td>3</td>\n",
              "      <td>0</td>\n",
              "      <td>0</td>\n",
              "      <td>3</td>\n",
              "      <td>3</td>\n",
              "    </tr>\n",
              "    <tr>\n",
              "      <th>1</th>\n",
              "      <td>3</td>\n",
              "      <td>0</td>\n",
              "      <td>0</td>\n",
              "      <td>1</td>\n",
              "      <td>2</td>\n",
              "      <td>2</td>\n",
              "    </tr>\n",
              "    <tr>\n",
              "      <th>2</th>\n",
              "      <td>2</td>\n",
              "      <td>2</td>\n",
              "      <td>0</td>\n",
              "      <td>1</td>\n",
              "      <td>1</td>\n",
              "      <td>1</td>\n",
              "    </tr>\n",
              "    <tr>\n",
              "      <th>3</th>\n",
              "      <td>0</td>\n",
              "      <td>1</td>\n",
              "      <td>1</td>\n",
              "      <td>2</td>\n",
              "      <td>0</td>\n",
              "      <td>0</td>\n",
              "    </tr>\n",
              "  </tbody>\n",
              "</table>\n",
              "</div>"
            ],
            "text/plain": [
              "   name  address  category  category2  location_lat  location_lon\n",
              "0     1        3         0          0             3             3\n",
              "1     3        0         0          1             2             2\n",
              "2     2        2         0          1             1             1\n",
              "3     0        1         1          2             0             0"
            ]
          },
          "execution_count": 19,
          "metadata": {},
          "output_type": "execute_result"
        }
      ],
      "source": [
        "df['location_lat'] = df['location'].apply(lambda x: x['lat'])\n",
        "df['location_lon'] = df['location'].apply(lambda x: x['lon'])\n",
        "\n",
        "# Initialize label encoders\n",
        "le_category = LabelEncoder()\n",
        "le_category2 = LabelEncoder()\n",
        "le_name = LabelEncoder()\n",
        "le_address = LabelEncoder()\n",
        "le_locationLat = LabelEncoder()\n",
        "le_locationLon = LabelEncoder()\n",
        "\n",
        "# Apply label encoding\n",
        "df['category'] = le_category.fit_transform(df['category'])\n",
        "df['category2'] = le_category2.fit_transform(df['category2'])\n",
        "df['name'] = le_name.fit_transform(df['name'])\n",
        "df['address'] = le_address.fit_transform(df['address'])\n",
        "df['location_lat'] = le_locationLat.fit_transform(df['location_lat'])\n",
        "df['location_lon'] = le_locationLon.fit_transform(df['location_lon'])\n",
        "\n",
        "# Drop the original location column as it's no longer needed\n",
        "df = df.drop(columns=['location'])\n",
        "df"
      ]
    },
    {
      "cell_type": "code",
      "execution_count": 5,
      "metadata": {},
      "outputs": [
        {
          "ename": "KeyError",
          "evalue": "'type'",
          "output_type": "error",
          "traceback": [
            "\u001b[0;31m---------------------------------------------------------------------------\u001b[0m",
            "\u001b[0;31mKeyError\u001b[0m                                  Traceback (most recent call last)",
            "Cell \u001b[0;32mIn[5], line 2\u001b[0m\n\u001b[1;32m      1\u001b[0m user_profile_encoded \u001b[38;5;241m=\u001b[39m {\n\u001b[0;32m----> 2\u001b[0m     \u001b[38;5;124m\"\u001b[39m\u001b[38;5;124mtype\u001b[39m\u001b[38;5;124m\"\u001b[39m: le_type\u001b[38;5;241m.\u001b[39mtransform([\u001b[43muser_profile\u001b[49m\u001b[43m[\u001b[49m\u001b[38;5;124;43m\"\u001b[39;49m\u001b[38;5;124;43mtype\u001b[39;49m\u001b[38;5;124;43m\"\u001b[39;49m\u001b[43m]\u001b[49m])[\u001b[38;5;241m0\u001b[39m],\n\u001b[1;32m      3\u001b[0m     \u001b[38;5;124m\"\u001b[39m\u001b[38;5;124mcuisine\u001b[39m\u001b[38;5;124m\"\u001b[39m: le_cuisine\u001b[38;5;241m.\u001b[39mtransform([user_profile[\u001b[38;5;124m\"\u001b[39m\u001b[38;5;124mcuisine\u001b[39m\u001b[38;5;124m\"\u001b[39m]])[\u001b[38;5;241m0\u001b[39m],\n\u001b[1;32m      4\u001b[0m     \u001b[38;5;124m\"\u001b[39m\u001b[38;5;124mlocation\u001b[39m\u001b[38;5;124m\"\u001b[39m: le_location\u001b[38;5;241m.\u001b[39mtransform([user_profile[\u001b[38;5;124m\"\u001b[39m\u001b[38;5;124mlocation\u001b[39m\u001b[38;5;124m\"\u001b[39m]])[\u001b[38;5;241m0\u001b[39m],\n\u001b[1;32m      5\u001b[0m     \u001b[38;5;124m\"\u001b[39m\u001b[38;5;124mprice_range\u001b[39m\u001b[38;5;124m\"\u001b[39m: le_price_range\u001b[38;5;241m.\u001b[39mtransform([user_profile[\u001b[38;5;124m\"\u001b[39m\u001b[38;5;124mprice_range\u001b[39m\u001b[38;5;124m\"\u001b[39m]])[\u001b[38;5;241m0\u001b[39m]\n\u001b[1;32m      6\u001b[0m }\n",
            "\u001b[0;31mKeyError\u001b[0m: 'type'"
          ]
        }
      ],
      "source": [
        "user_profile_encoded = {\n",
        "    \"type\": le_type.transform([user_profile[\"type\"]])[0],\n",
        "    \"cuisine\": le_cuisine.transform([user_profile[\"cuisine\"]])[0],\n",
        "    \"location\": le_location.transform([user_profile[\"location\"]])[0],\n",
        "    \"price_range\": le_price_range.transform([user_profile[\"price_range\"]])[0]\n",
        "}"
      ]
    },
    {
      "cell_type": "code",
      "execution_count": null,
      "metadata": {},
      "outputs": [],
      "source": [
        "features = ['category', 'category2', 'lat', 'lon']\n",
        "# passed into model\n",
        "X = df[features].values"
      ]
    },
    {
      "cell_type": "code",
      "execution_count": null,
      "metadata": {},
      "outputs": [],
      "source": [
        "class SimpleNN(nn.Module):\n",
        "    def __init__(self, input_dim):\n",
        "        super(SimpleNN, self).__init__()\n",
        "        # play around with this later\n",
        "        self.fc1 = nn.Linear(input_dim, 64)\n",
        "        self.fc2 = nn.Linear(64, 32)\n",
        "        # one output for regression/classification models usually\n",
        "        self.fc3 = nn.Linear(32, 1)\n",
        "        \n",
        "    # forward pass tells us how the data flows through the network\n",
        "    def forward(self, x):\n",
        "        # relu used to focus on positive numbers\n",
        "        x = torch.relu(self.fc1(x))\n",
        "        x = torch.relu(self.fc2(x))\n",
        "        x = self.fc3(x)\n",
        "        return x\n",
        "        "
      ]
    },
    {
      "cell_type": "code",
      "execution_count": null,
      "metadata": {},
      "outputs": [],
      "source": [
        "# retrieves # of features that will be in input\n",
        "input_dim = X.shape[1]\n",
        "# initialize model\n",
        "model = SimpleNN(input_dim)\n",
        "# checker of how well performance is\n",
        "criterion = nn.MSELoss()\n",
        "# optimizer to update weights of model to minimize loss\n",
        "optimizer = torch.optim.Adam(model.parameters(), lr=0.01)"
      ]
    },
    {
      "cell_type": "code",
      "execution_count": null,
      "metadata": {},
      "outputs": [],
      "source": [
        "X_train, X_test = train_test_split(X, test_size=0.2, random_state=42)\n",
        "X_train_tensor = torch.FloatTensor(X_train, dtype=torch.float32)\n",
        "X_test_tensor = torch.FloatTensor(X_test, dtype=torch.float32)\n",
        "\n",
        "# training loop\n",
        "epochs = 1000\n",
        "for epoch in range(epochs):\n",
        "    model.train()\n",
        "    optimizer.zero_grad\n"
      ]
    }
  ],
  "metadata": {
    "colab": {
      "provenance": []
    },
    "kernelspec": {
      "display_name": "Python 3",
      "name": "python3"
    },
    "language_info": {
      "codemirror_mode": {
        "name": "ipython",
        "version": 3
      },
      "file_extension": ".py",
      "mimetype": "text/x-python",
      "name": "python",
      "nbconvert_exporter": "python",
      "pygments_lexer": "ipython3",
      "version": "3.12.4"
    }
  },
  "nbformat": 4,
  "nbformat_minor": 0
}
