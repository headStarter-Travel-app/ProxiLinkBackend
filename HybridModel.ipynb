{
  "cells": [
    {
      "cell_type": "code",
      "execution_count": 11,
      "metadata": {
        "id": "KXo4MjQkmtKj"
      },
      "outputs": [],
      "source": [
        "import pandas as pd\n",
        "import torch\n",
        "import torch.nn as nn\n",
        "from sklearn.preprocessing import LabelEncoder\n",
        "from sklearn.model_selection import train_test_split\n",
        "from sklearn.metrics.pairwise import cosine_similarity\n",
        "import numpy as np"
      ]
    },
    {
      "cell_type": "code",
      "execution_count": 15,
      "metadata": {
        "id": "opNKlpN2ndGO"
      },
      "outputs": [
        {
          "data": {
            "text/html": [
              "<div>\n",
              "<style scoped>\n",
              "    .dataframe tbody tr th:only-of-type {\n",
              "        vertical-align: middle;\n",
              "    }\n",
              "\n",
              "    .dataframe tbody tr th {\n",
              "        vertical-align: top;\n",
              "    }\n",
              "\n",
              "    .dataframe thead th {\n",
              "        text-align: right;\n",
              "    }\n",
              "</style>\n",
              "<table border=\"1\" class=\"dataframe\">\n",
              "  <thead>\n",
              "    <tr style=\"text-align: right;\">\n",
              "      <th></th>\n",
              "      <th>name</th>\n",
              "      <th>address</th>\n",
              "      <th>location</th>\n",
              "      <th>category</th>\n",
              "      <th>category2</th>\n",
              "    </tr>\n",
              "  </thead>\n",
              "  <tbody>\n",
              "    <tr>\n",
              "      <th>0</th>\n",
              "      <td>Potomac Pizza</td>\n",
              "      <td>7777 Baltimore Ave, College Park, MD  20740, U...</td>\n",
              "      <td>{'lat': 38.9873178, 'lon': -76.9356036}</td>\n",
              "      <td>Restaurant</td>\n",
              "      <td>Italian food</td>\n",
              "    </tr>\n",
              "    <tr>\n",
              "      <th>1</th>\n",
              "      <td>Wasabi Bistro Japanese Food &amp; Bubble Tea</td>\n",
              "      <td>4505 College Ave, College Park, MD  20740, Uni...</td>\n",
              "      <td>{'lat': 38.9818553, 'lon': -76.9373256}</td>\n",
              "      <td>Restaurant</td>\n",
              "      <td>Japanese food</td>\n",
              "    </tr>\n",
              "    <tr>\n",
              "      <th>2</th>\n",
              "      <td>Qù Japan</td>\n",
              "      <td>7406 Baltimore Ave, College Park, MD  20740, U...</td>\n",
              "      <td>{'lat': 38.9811565, 'lon': -76.9380815}</td>\n",
              "      <td>Restaurant</td>\n",
              "      <td>Japanese food</td>\n",
              "    </tr>\n",
              "    <tr>\n",
              "      <th>3</th>\n",
              "      <td>College Park Shopping Center</td>\n",
              "      <td>7370 Baltimore Ave, College Park, MD  20740, U...</td>\n",
              "      <td>{'lat': 38.9806676, 'lon': -76.9390872}</td>\n",
              "      <td>Store</td>\n",
              "      <td>shopping</td>\n",
              "    </tr>\n",
              "  </tbody>\n",
              "</table>\n",
              "</div>"
            ],
            "text/plain": [
              "                                       name  \\\n",
              "0                             Potomac Pizza   \n",
              "1  Wasabi Bistro Japanese Food & Bubble Tea   \n",
              "2                                  Qù Japan   \n",
              "3              College Park Shopping Center   \n",
              "\n",
              "                                             address  \\\n",
              "0  7777 Baltimore Ave, College Park, MD  20740, U...   \n",
              "1  4505 College Ave, College Park, MD  20740, Uni...   \n",
              "2  7406 Baltimore Ave, College Park, MD  20740, U...   \n",
              "3  7370 Baltimore Ave, College Park, MD  20740, U...   \n",
              "\n",
              "                                  location    category      category2  \n",
              "0  {'lat': 38.9873178, 'lon': -76.9356036}  Restaurant   Italian food  \n",
              "1  {'lat': 38.9818553, 'lon': -76.9373256}  Restaurant  Japanese food  \n",
              "2  {'lat': 38.9811565, 'lon': -76.9380815}  Restaurant  Japanese food  \n",
              "3  {'lat': 38.9806676, 'lon': -76.9390872}       Store       shopping  "
            ]
          },
          "execution_count": 15,
          "metadata": {},
          "output_type": "execute_result"
        }
      ],
      "source": [
        "\n",
        "\n",
        "\n",
        "data = [{\n",
        "    \"name\": \"Potomac Pizza\",\n",
        "    \"address\": \"7777 Baltimore Ave, College Park, MD  20740, United States\",\n",
        "    \"location\": {\n",
        "      \"lat\": 38.9873178,\n",
        "      \"lon\": -76.9356036\n",
        "    },\n",
        "    \"category\": \"Restaurant\",\n",
        "    \"category2\": \"Italian food\"\n",
        "},\n",
        "{\n",
        "\"name\": \"Wasabi Bistro Japanese Food & Bubble Tea\",\n",
        "\"address\": \"4505 College Ave, College Park, MD  20740, United States\",\n",
        "\"location\": {\n",
        "    \"lat\": 38.9818553,\n",
        "    \"lon\": -76.9373256\n",
        "},\n",
        "\"category\": \"Restaurant\",\n",
        "\"category2\": \"Japanese food\"\n",
        "},\n",
        "{\n",
        "\"name\": \"Q\\u00f9 Japan\",\n",
        "\"address\": \"7406 Baltimore Ave, College Park, MD  20740, United States\",\n",
        "\"location\": {\n",
        "    \"lat\": 38.9811565,\n",
        "    \"lon\": -76.9380815\n",
        "},\n",
        "\"category\": \"Restaurant\",\n",
        "\"category2\": \"Japanese food\"\n",
        "},\n",
        "{\n",
        "\"name\": \"College Park Shopping Center\",\n",
        "\"address\": \"7370 Baltimore Ave, College Park, MD  20740, United States\",\n",
        "\"location\": {\n",
        "    \"lat\": 38.9806676,\n",
        "    \"lon\": -76.9390872\n",
        "},\n",
        "\"category\": \"Store\",\n",
        "\"category2\": \"shopping\"\n",
        "},]\n",
        "df = pd.DataFrame(data)\n",
        "df"
      ]
    },
    {
      "cell_type": "code",
      "execution_count": 16,
      "metadata": {
        "id": "sDmqHeBnnpwR"
      },
      "outputs": [],
      "source": [
        "# Encoding\n",
        "le_category = LabelEncoder()\n",
        "le_category2 = LabelEncoder()\n",
        "df['category'] = le_category.fit_transform(df['category'])\n",
        "df['category2'] = le_category2.fit_transform(df['category2'])"
      ]
    },
    {
      "cell_type": "code",
      "execution_count": 19,
      "metadata": {
        "id": "7pOFKQO5nuYM"
      },
      "outputs": [
        {
          "data": {
            "text/html": [
              "<div>\n",
              "<style scoped>\n",
              "    .dataframe tbody tr th:only-of-type {\n",
              "        vertical-align: middle;\n",
              "    }\n",
              "\n",
              "    .dataframe tbody tr th {\n",
              "        vertical-align: top;\n",
              "    }\n",
              "\n",
              "    .dataframe thead th {\n",
              "        text-align: right;\n",
              "    }\n",
              "</style>\n",
              "<table border=\"1\" class=\"dataframe\">\n",
              "  <thead>\n",
              "    <tr style=\"text-align: right;\">\n",
              "      <th></th>\n",
              "      <th>name</th>\n",
              "      <th>address</th>\n",
              "      <th>category</th>\n",
              "      <th>category2</th>\n",
              "      <th>location_lat</th>\n",
              "      <th>location_lon</th>\n",
              "    </tr>\n",
              "  </thead>\n",
              "  <tbody>\n",
              "    <tr>\n",
              "      <th>0</th>\n",
              "      <td>1</td>\n",
              "      <td>3</td>\n",
              "      <td>0</td>\n",
              "      <td>0</td>\n",
              "      <td>3</td>\n",
              "      <td>3</td>\n",
              "    </tr>\n",
              "    <tr>\n",
              "      <th>1</th>\n",
              "      <td>3</td>\n",
              "      <td>0</td>\n",
              "      <td>0</td>\n",
              "      <td>1</td>\n",
              "      <td>2</td>\n",
              "      <td>2</td>\n",
              "    </tr>\n",
              "    <tr>\n",
              "      <th>2</th>\n",
              "      <td>2</td>\n",
              "      <td>2</td>\n",
              "      <td>0</td>\n",
              "      <td>1</td>\n",
              "      <td>1</td>\n",
              "      <td>1</td>\n",
              "    </tr>\n",
              "    <tr>\n",
              "      <th>3</th>\n",
              "      <td>0</td>\n",
              "      <td>1</td>\n",
              "      <td>1</td>\n",
              "      <td>2</td>\n",
              "      <td>0</td>\n",
              "      <td>0</td>\n",
              "    </tr>\n",
              "  </tbody>\n",
              "</table>\n",
              "</div>"
            ],
            "text/plain": [
              "   name  address  category  category2  location_lat  location_lon\n",
              "0     1        3         0          0             3             3\n",
              "1     3        0         0          1             2             2\n",
              "2     2        2         0          1             1             1\n",
              "3     0        1         1          2             0             0"
            ]
          },
          "execution_count": 19,
          "metadata": {},
          "output_type": "execute_result"
        }
      ],
      "source": [
        "df['location_lat'] = df['location'].apply(lambda x: x['lat'])\n",
        "df['location_lon'] = df['location'].apply(lambda x: x['lon'])\n",
        "\n",
        "# Initialize label encoders\n",
        "le_category = LabelEncoder()\n",
        "le_category2 = LabelEncoder()\n",
        "le_name = LabelEncoder()\n",
        "le_address = LabelEncoder()\n",
        "le_locationLat = LabelEncoder()\n",
        "le_locationLon = LabelEncoder()\n",
        "\n",
        "# Apply label encoding\n",
        "df['category'] = le_category.fit_transform(df['category'])\n",
        "df['category2'] = le_category2.fit_transform(df['category2'])\n",
        "df['name'] = le_name.fit_transform(df['name'])\n",
        "df['address'] = le_address.fit_transform(df['address'])\n",
        "df['location_lat'] = le_locationLat.fit_transform(df['location_lat'])\n",
        "df['location_lon'] = le_locationLon.fit_transform(df['location_lon'])\n",
        "\n",
        "# Drop the original location column as it's no longer needed\n",
        "df = df.drop(columns=['location'])\n",
        "df"
      ]
    },
    {
      "cell_type": "code",
      "execution_count": 5,
      "metadata": {},
      "outputs": [
        {
          "ename": "KeyError",
          "evalue": "'type'",
          "output_type": "error",
          "traceback": [
            "\u001b[0;31m---------------------------------------------------------------------------\u001b[0m",
            "\u001b[0;31mKeyError\u001b[0m                                  Traceback (most recent call last)",
            "Cell \u001b[0;32mIn[5], line 2\u001b[0m\n\u001b[1;32m      1\u001b[0m user_profile_encoded \u001b[38;5;241m=\u001b[39m {\n\u001b[0;32m----> 2\u001b[0m     \u001b[38;5;124m\"\u001b[39m\u001b[38;5;124mtype\u001b[39m\u001b[38;5;124m\"\u001b[39m: le_type\u001b[38;5;241m.\u001b[39mtransform([\u001b[43muser_profile\u001b[49m\u001b[43m[\u001b[49m\u001b[38;5;124;43m\"\u001b[39;49m\u001b[38;5;124;43mtype\u001b[39;49m\u001b[38;5;124;43m\"\u001b[39;49m\u001b[43m]\u001b[49m])[\u001b[38;5;241m0\u001b[39m],\n\u001b[1;32m      3\u001b[0m     \u001b[38;5;124m\"\u001b[39m\u001b[38;5;124mcuisine\u001b[39m\u001b[38;5;124m\"\u001b[39m: le_cuisine\u001b[38;5;241m.\u001b[39mtransform([user_profile[\u001b[38;5;124m\"\u001b[39m\u001b[38;5;124mcuisine\u001b[39m\u001b[38;5;124m\"\u001b[39m]])[\u001b[38;5;241m0\u001b[39m],\n\u001b[1;32m      4\u001b[0m     \u001b[38;5;124m\"\u001b[39m\u001b[38;5;124mlocation\u001b[39m\u001b[38;5;124m\"\u001b[39m: le_location\u001b[38;5;241m.\u001b[39mtransform([user_profile[\u001b[38;5;124m\"\u001b[39m\u001b[38;5;124mlocation\u001b[39m\u001b[38;5;124m\"\u001b[39m]])[\u001b[38;5;241m0\u001b[39m],\n\u001b[1;32m      5\u001b[0m     \u001b[38;5;124m\"\u001b[39m\u001b[38;5;124mprice_range\u001b[39m\u001b[38;5;124m\"\u001b[39m: le_price_range\u001b[38;5;241m.\u001b[39mtransform([user_profile[\u001b[38;5;124m\"\u001b[39m\u001b[38;5;124mprice_range\u001b[39m\u001b[38;5;124m\"\u001b[39m]])[\u001b[38;5;241m0\u001b[39m]\n\u001b[1;32m      6\u001b[0m }\n",
            "\u001b[0;31mKeyError\u001b[0m: 'type'"
          ]
        }
      ],
      "source": [
        "# Encoding user profile\n",
        "user_profile_encoded = {\n",
        "    \"category\": le_category.transform([user_profile['category']])[0],\n",
        "    \"category2\": le_category2.transform([user_profile['category2']])[0],\n",
        "    \"lat\": user_profile['lat'],\n",
        "    \"lon\": user_profile['lon']\n",
        "}"
      ]
    },
    {
      "cell_type": "code",
      "execution_count": null,
      "metadata": {},
      "outputs": [],
      "source": [
        "features = ['category', 'category2', 'lat', 'lon']\n",
        "X = df[features].values"
      ]
    },
    {
      "cell_type": "code",
      "execution_count": null,
      "metadata": {},
      "outputs": [],
      "source": [
        "class SimpleNN(nn.Module):\n",
        "    def __init__(self, input_dim):\n",
        "        super(SimpleNN, self).__init__()\n",
        "        self.fc1 = nn.Linear(input_dim, 64)\n",
        "        self.fc2 = nn.Linear(64, 32)\n",
        "        self.fc3 = nn.Linear(32, 1)\n",
        "\n",
        "def forward(self, x):\n",
        "    x = torch.relu(self.fc1(x))\n",
        "    x = torch.relu(self.fc2(x))\n",
        "    x = self.fc3(x)\n",
        "    return x\n",
        "        "
      ]
    },
    {
      "cell_type": "code",
      "execution_count": null,
      "metadata": {},
      "outputs": [],
      "source": [
        "# retrieves # of features that will be in input\n",
        "input_dim = X.shape[1]\n",
        "# initialize model\n",
        "model = SimpleNN(input_dim)\n",
        "# checker of how well performance is\n",
        "criterion = nn.MSELoss()\n",
        "# optimizer to update weights of model to minimize loss\n",
        "optimizer = torch.optim.Adam(model.parameters(), lr=0.01)"
      ]
    },
    {
      "cell_type": "code",
      "execution_count": null,
      "metadata": {},
      "outputs": [],
      "source": [
        "X_train, X_test = train_test_split(X, test_size=0.2, random_state=42)\n",
        "X_train_tensor = torch.tensor(X_train, dtype=torch.float32)\n",
        "X_test_tensor = torch.tensor(X_test, dtype=torch.float32)\n",
        "\n",
        "# training loop\n",
        "epochs = 1000\n",
        "for epoch in range(epochs):\n",
        "    model.train()\n",
        "    optimizer.zero_grad()\n",
        "    outputs = model(X_train_tensor)\n",
        "    loss = criterion(outputs, torch.tensor(X_train, dtype=torch.float32).view(-1, 1))\n",
        "    loss.backward()\n",
        "    optimizer.step()\n",
        "    if (epoch+1) % 100 == 0:\n",
        "        print(f'Epoch [{epoch+1}/{epochs}], Loss: {loss.item():.4f}')\n"
      ]
    },
    {
      "cell_type": "code",
      "execution_count": null,
      "metadata": {},
      "outputs": [],
      "source": [
        "model.eval()\n",
        "with torch.no_grad():\n",
        "    place_vectors = torch.tensor(X, dtype=torch.float32)\n",
        "    user_vector = torch.tensor([list(user_profile_encoded.values())], dtype=torch.float32)\n",
        "    user_similarity = cosine_similarity(user_vector.numpy(), place_vectors.numpy())\n",
        "    df['content_similarity'] = user_similarity[0]"
      ]
    },
    {
      "cell_type": "code",
      "execution_count": null,
      "metadata": {},
      "outputs": [],
      "source": [
        "# dummy data for ratings collaborative filtering\n",
        "ratings = pd.DataFrame({\n",
        "    \"user\": [1, 1, 1, 2, 2, 3, 3, 3, 3],\n",
        "    \"place\": [\"Potomac Pizza\", \"Wasabi Bistro Japanese Food & Bubble Tea\", \"Qù Japan\", \"Potomac Pizza\", \"College Park Shopping Center\", \"Potomac Pizza\", \"Wasabi Bistro Japanese Food & Bubble Tea\", \"Qù Japan\", \"College Park Shopping Center\"],\n",
        "    \"rating\": [5, 4, 4, 5, 4, 3, 2, 4, 4]\n",
        "})"
      ]
    },
    {
      "cell_type": "code",
      "execution_count": null,
      "metadata": {},
      "outputs": [],
      "source": [
        "user_ids = ratings[\"user\"].unique()\n",
        "place_ids = ratings[\"place\"].unique()\n",
        "\n",
        "user_id_to_index = {user_id: index for index, user_id in enumerate(user_ids)}\n",
        "place_id_to_index = {place_id: index for index, place_id in enumerate(place_ids)}\n",
        "\n",
        "ratings[\"user\"] = ratings[\"user\"].apply(lambda x: user_id_to_index[x])\n",
        "ratings[\"place\"] = ratings[\"place\"].apply(lambda x: place_id_to_index[x])"
      ]
    },
    {
      "cell_type": "code",
      "execution_count": null,
      "metadata": {},
      "outputs": [],
      "source": [
        "num_users = len(user_ids)\n",
        "num_places = len(place_ids)\n",
        "\n",
        "class MF(nn.Module):\n",
        "    def __init__(self, num_users, num_items, emb_size=100):\n",
        "        super(MF, self).__init__()\n",
        "        self.user_emb = nn.Embedding(num_users, emb_size)\n",
        "        self.item_emb = nn.Embedding(num_items, emb_size)\n",
        "        self.user_emb.weight.data.uniform_(0, 0.05)\n",
        "        self.item_emb.weight.data.uniform_(0, 0.05)\n",
        "\n",
        "    def forward(self, u, v):\n",
        "        u = self.user_emb(u)\n",
        "        v = self.item_emb(v)\n",
        "        return (u*v).sum(1)"
      ]
    },
    {
      "cell_type": "code",
      "execution_count": null,
      "metadata": {},
      "outputs": [],
      "source": [
        "model_cf = MF(num_users, num_places, emb_size=100)\n",
        "criterion = nn.MSELoss()\n",
        "optimizer = torch.optim.Adam(model_cf.parameters(), lr=0.01)"
      ]
    },
    {
      "cell_type": "code",
      "execution_count": null,
      "metadata": {},
      "outputs": [],
      "source": [
        "user_tensor = torch.tensor(ratings[\"user\"].values, dtype=torch.long)\n",
        "place_tensor = torch.tensor(ratings[\"place\"].values, dtype=torch.long)\n",
        "rating_tensor = torch.tensor(ratings[\"rating\"].values, dtype=torch.float32)"
      ]
    },
    {
      "cell_type": "code",
      "execution_count": null,
      "metadata": {},
      "outputs": [],
      "source": [
        "epochs = 1000\n",
        "for epoch in range(epochs):\n",
        "    model_cf.train()\n",
        "    optimizer.zero_grad()\n",
        "    predictions = model_cf(user_tensor, place_tensor)\n",
        "    loss = criterion(predictions, rating_tensor)\n",
        "    loss.backward()\n",
        "    optimizer.step()\n",
        "    if (epoch+1) % 100 == 0:\n",
        "        print(f'Epoch [{epoch+1}/{epochs}], Loss: {loss.item():.4f}')"
      ]
    },
    {
      "cell_type": "code",
      "execution_count": null,
      "metadata": {},
      "outputs": [],
      "source": [
        "model_cf.eval()\n",
        "with torch.no_grad():\n",
        "    user_index = user_id_to_index[1]  # Example user ID\n",
        "    user_tensor = torch.tensor([user_index] * num_places, dtype=torch.long)\n",
        "    place_tensor = torch.tensor(list(range(num_places)), dtype=torch.long)\n",
        "    predictions = model_cf(user_tensor, place_tensor)\n",
        "    preds_df_cf = pd.DataFrame({\n",
        "        \"place\": [place_ids[i] for i in range(num_places)],\n",
        "        \"prediction\": predictions.numpy()\n",
        "    })\n"
      ]
    },
    {
      "cell_type": "code",
      "execution_count": null,
      "metadata": {},
      "outputs": [],
      "source": [
        "# Combining Content-Based and Collaborative Filtering\n",
        "df = df.merge(preds_df_cf, left_on='name', right_on='place')\n",
        "df['hybrid_score'] = df['content_similarity'] * 0.5 + df['prediction'] * 0.5\n",
        "\n",
        "# Get top recommendations\n",
        "top_recommendations = df[['name', 'address', 'category', 'category2', 'hybrid_score']].sort_values(by='hybrid_score', ascending=False)\n",
        "print(top_recommendations)"
      ]
    },
    {
      "cell_type": "code",
      "execution_count": null,
      "metadata": {},
      "outputs": [],
      "source": []
    }
  ],
  "metadata": {
    "colab": {
      "provenance": []
    },
    "kernelspec": {
      "display_name": "Python 3",
      "name": "python3"
    },
    "language_info": {
      "codemirror_mode": {
        "name": "ipython",
        "version": 3
      },
      "file_extension": ".py",
      "mimetype": "text/x-python",
      "name": "python",
      "nbconvert_exporter": "python",
      "pygments_lexer": "ipython3",
      "version": "3.12.4"
    }
  },
  "nbformat": 4,
  "nbformat_minor": 0
}
