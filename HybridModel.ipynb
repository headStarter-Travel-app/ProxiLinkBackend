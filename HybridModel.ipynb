{
  "cells": [
    {
      "cell_type": "code",
      "execution_count": null,
      "metadata": {
        "id": "KXo4MjQkmtKj"
      },
      "outputs": [],
      "source": [
        "import pandas as pd\n",
        "import torch\n",
        "import torch.nn as nn\n",
        "from sklearn.preprocessing import LabelEncoder\n",
        "from sklearn.model_selection import train_test_split\n",
        "\n",
        "from sklearn.metrics.pairwise import cosine_similarity\n",
        "from scipy.sparse.linalg import svds\n",
        "import numpy as np"
      ]
    },
    {
      "cell_type": "code",
      "execution_count": 2,
      "metadata": {
        "id": "opNKlpN2ndGO"
      },
      "outputs": [],
      "source": [
        "\n",
        "\n",
        "\n",
        "data = {\n",
        "    \"name\": \"Potomac Pizza\",\n",
        "    \"address\": \"7777 Baltimore Ave, College Park, MD  20740, United States\",\n",
        "    \"location\": {\n",
        "      \"lat\": 38.9873178,\n",
        "      \"lon\": -76.9356036\n",
        "    },\n",
        "    \"category\": \"Restaurant\",\n",
        "    \"category2\": \"Italian food\"\n",
        "},\n",
        "{\n",
        "\"name\": \"Wasabi Bistro Japanese Food & Bubble Tea\",\n",
        "\"address\": \"4505 College Ave, College Park, MD  20740, United States\",\n",
        "\"location\": {\n",
        "    \"lat\": 38.9818553,\n",
        "    \"lon\": -76.9373256\n",
        "},\n",
        "\"category\": \"Restaurant\",\n",
        "\"category2\": \"Japanese food\"\n",
        "},\n",
        "{\n",
        "\"name\": \"Q\\u00f9 Japan\",\n",
        "\"address\": \"7406 Baltimore Ave, College Park, MD  20740, United States\",\n",
        "\"location\": {\n",
        "    \"lat\": 38.9811565,\n",
        "    \"lon\": -76.9380815\n",
        "},\n",
        "\"category\": \"Restaurant\",\n",
        "\"category2\": \"Japanese food\"\n",
        "},\n",
        "{\n",
        "\"name\": \"College Park Shopping Center\",\n",
        "\"address\": \"7370 Baltimore Ave, College Park, MD  20740, United States\",\n",
        "\"location\": {\n",
        "    \"lat\": 38.9806676,\n",
        "    \"lon\": -76.9390872\n",
        "},\n",
        "\"category\": \"Store\",\n",
        "\"category2\": \"shopping\"\n",
        "},\n",
        "df = pd.DataFrame(data)"
      ]
    },
    {
      "cell_type": "code",
      "execution_count": 3,
      "metadata": {
        "id": "sDmqHeBnnpwR"
      },
      "outputs": [],
      "source": [
        "\n",
        "user_profile = {'user_id': '66996b7b0025b402922b', 'cuisine': ['Japanese', 'Italian'], 'atmosphere': ['Cozy'], 'entertainment': ['Arcade', 'Parks'], 'socializing': 'BOTH', 'Time': ['MORNING'], 'shopping': 'YES', 'family_friendly': True, 'learning': ['Culture'], 'sports': ['Golf'], '$id': '66996b7b0025b402922b', '$tenant': '168138', '$createdAt': '2024-07-18T19:31:11.173+00:00', '$updatedAt': '2024-07-20T19:16:56.252+00:00', '$permissions': [], 'users': {'email': 'Nagelia.naman@gmail.com', 'uid': '66996b7b0025b402922b', 'firstName': 'Naman', 'lastName': 'Nagelia', 'address': None, 'premium': False, 'monthly_uses': 5, 'friends': ['66996d2e00314baa2a20', '669ea8a0002fd0a07a97', '66a850af002730eadb39', '66a05a77002bacd6dad0', '66a58e55001acebf9f51'], 'receivedRequests': [], 'sentRequests': ['669b45980030c00f3b8c', '669c735c001355ea24a7'], '$id': '66996b7b0025b402922b', '$tenant': '168138', '$createdAt': '2024-07-18T19:22:37.018+00:00', '$updatedAt': '2024-07-31T18:48:29.871+00:00', '$permissions': [], '$databaseId': '66930e1000087eb0d4bd', '$collectionId': '66930e5900107bc194dc'}, '$databaseId': '66930e1000087eb0d4bd', '$collectionId': '6696016b00117bbf6352'}\n"
      ]
    },
    {
      "cell_type": "code",
      "execution_count": null,
      "metadata": {
        "id": "7pOFKQO5nuYM"
      },
      "outputs": [],
      "source": [
        "le_type = LabelEncoder()\n",
        "le_cuisine = LabelEncoder()\n",
        "le_location = LabelEncoder()\n",
        "le_price_range = LabelEncoder()\n",
        "df['type'] = le_type.fit_transform(df['type'])\n",
        "df['cuisine'] = le_cuisine.fit_transform(df['cuisine'])\n",
        "df['location'] = le_location.fit_transform(df['location'])\n",
        "df['price_range'] = le_price_range.fit_transform(df['price_range'])"
      ]
    },
    {
      "cell_type": "code",
      "execution_count": null,
      "metadata": {},
      "outputs": [],
      "source": [
        "user_profile_encoded = {\n",
        "    \"type\": le_type.transform([user_profile[\"type\"]])[0],\n",
        "    \"cuisine\": le_cuisine.transform([user_profile[\"cuisine\"]])[0],\n",
        "    \"location\": le_location.transform([user_profile[\"location\"]])[0],\n",
        "    \"price_range\": le_price_range.transform([user_profile[\"price_range\"]])[0]\n",
        "}"
      ]
    },
    {
      "cell_type": "code",
      "execution_count": null,
      "metadata": {},
      "outputs": [],
      "source": [
        "features = ['category', 'category2', 'lat', 'lon']\n",
        "# passed into model\n",
        "X = df[features].values"
      ]
    },
    {
      "cell_type": "code",
      "execution_count": null,
      "metadata": {},
      "outputs": [],
      "source": [
        "class SimpleNN(nn.Module):\n",
        "    def __init__(self, input_dim):\n",
        "        super(SimpleNN, self).__init__()\n",
        "        # play around with this later\n",
        "        self.fc1 = nn.Linear(input_dim, 64)\n",
        "        self.fc2 = nn.Linear(64, 32)\n",
        "        # one output for regression/classification models usually\n",
        "        self.fc3 = nn.Linear(32, 1)\n",
        "        \n",
        "    # forward pass tells us how the data flows through the network\n",
        "    def forward(self, x):\n",
        "        # relu used to focus on positive numbers\n",
        "        x = torch.relu(self.fc1(x))\n",
        "        x = torch.relu(self.fc2(x))\n",
        "        x = self.fc3(x)\n",
        "        return x\n",
        "        "
      ]
    },
    {
      "cell_type": "code",
      "execution_count": null,
      "metadata": {},
      "outputs": [],
      "source": [
        "# retrieves # of features that will be in input\n",
        "input_dim = X.shape[1]\n",
        "# initialize model\n",
        "model = SimpleNN(input_dim)\n",
        "# checker of how well performance is\n",
        "criterion = nn.MSELoss()\n",
        "# optimizer to update weights of model to minimize loss\n",
        "optimizer = torch.optim.Adam(model.parameters(), lr=0.01)"
      ]
    },
    {
      "cell_type": "code",
      "execution_count": null,
      "metadata": {},
      "outputs": [],
      "source": [
        "X_train, X_test = train_test_split(X, test_size=0.2, random_state=42)\n",
        "X_train_tensor = torch.FloatTensor(X_train, dtype=torch.float32)\n",
        "X_test_tensor = torch.FloatTensor(X_test, dtype=torch.float32)\n",
        "\n",
        "# training loop\n",
        "epochs = 1000\n",
        "for epoch in range(epochs):\n",
        "    model.train()\n",
        "    optimizer.zero_grad\n"
      ]
    }
  ],
  "metadata": {
    "colab": {
      "provenance": []
    },
    "kernelspec": {
      "display_name": "Python 3",
      "name": "python3"
    },
    "language_info": {
      "name": "python"
    }
  },
  "nbformat": 4,
  "nbformat_minor": 0
}
