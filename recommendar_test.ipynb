{
  "cells": [
    {
      "cell_type": "code",
      "execution_count": 1,
      "metadata": {
        "id": "lCcwYdAheEI1"
      },
      "outputs": [],
      "source": [
        "#=============================================\n",
        "#V2: Hybrid\n",
        "\n",
        "import pandas as pd\n",
        "import torch\n",
        "import torch.nn as nn\n",
        "from sklearn.preprocessing import LabelEncoder\n",
        "from sklearn.model_selection import train_test_split\n",
        "from sklearn.metrics.pairwise import cosine_similarity\n",
        "from scipy.sparse.linalg import svds\n",
        "import numpy as np\n"
      ]
    },
    {
      "cell_type": "code",
      "execution_count": 2,
      "metadata": {
        "colab": {
          "base_uri": "https://localhost:8080/",
          "height": 175
        },
        "id": "OKF8pstkyZgu",
        "outputId": "0402b40d-6930-4049-c193-b24f76ca223d"
      },
      "outputs": [
        {
          "data": {
            "text/html": [
              "<div>\n",
              "<style scoped>\n",
              "    .dataframe tbody tr th:only-of-type {\n",
              "        vertical-align: middle;\n",
              "    }\n",
              "\n",
              "    .dataframe tbody tr th {\n",
              "        vertical-align: top;\n",
              "    }\n",
              "\n",
              "    .dataframe thead th {\n",
              "        text-align: right;\n",
              "    }\n",
              "</style>\n",
              "<table border=\"1\" class=\"dataframe\">\n",
              "  <thead>\n",
              "    <tr style=\"text-align: right;\">\n",
              "      <th></th>\n",
              "      <th>place</th>\n",
              "      <th>type</th>\n",
              "      <th>cuisine</th>\n",
              "      <th>location</th>\n",
              "      <th>price_range</th>\n",
              "      <th>rating</th>\n",
              "    </tr>\n",
              "  </thead>\n",
              "  <tbody>\n",
              "    <tr>\n",
              "      <th>0</th>\n",
              "      <td>Place1</td>\n",
              "      <td>restaurant</td>\n",
              "      <td>Italian</td>\n",
              "      <td>downtown</td>\n",
              "      <td>moderate</td>\n",
              "      <td>4.5</td>\n",
              "    </tr>\n",
              "    <tr>\n",
              "      <th>1</th>\n",
              "      <td>Place2</td>\n",
              "      <td>park</td>\n",
              "      <td></td>\n",
              "      <td>suburbs</td>\n",
              "      <td>free</td>\n",
              "      <td>4.7</td>\n",
              "    </tr>\n",
              "    <tr>\n",
              "      <th>2</th>\n",
              "      <td>Place3</td>\n",
              "      <td>museum</td>\n",
              "      <td></td>\n",
              "      <td>downtown</td>\n",
              "      <td>expensive</td>\n",
              "      <td>4.2</td>\n",
              "    </tr>\n",
              "    <tr>\n",
              "      <th>3</th>\n",
              "      <td>Place4</td>\n",
              "      <td>restaurant</td>\n",
              "      <td>Chinese</td>\n",
              "      <td>midtown</td>\n",
              "      <td>cheap</td>\n",
              "      <td>4.0</td>\n",
              "    </tr>\n",
              "    <tr>\n",
              "      <th>4</th>\n",
              "      <td>Place5</td>\n",
              "      <td>Beach</td>\n",
              "      <td></td>\n",
              "      <td>rural</td>\n",
              "      <td>Free</td>\n",
              "      <td>2.0</td>\n",
              "    </tr>\n",
              "  </tbody>\n",
              "</table>\n",
              "</div>"
            ],
            "text/plain": [
              "    place        type  cuisine  location price_range  rating\n",
              "0  Place1  restaurant  Italian  downtown    moderate     4.5\n",
              "1  Place2        park            suburbs        free     4.7\n",
              "2  Place3      museum           downtown   expensive     4.2\n",
              "3  Place4  restaurant  Chinese   midtown       cheap     4.0\n",
              "4  Place5       Beach              rural        Free     2.0"
            ]
          },
          "execution_count": 2,
          "metadata": {},
          "output_type": "execute_result"
        }
      ],
      "source": [
        "data = {\n",
        "    \"place\": [\"Place1\", \"Place2\", \"Place3\", \"Place4\", \"Place5\"],\n",
        "    \"type\": [\"restaurant\", \"park\", \"museum\", \"restaurant\", \"Beach\"],\n",
        "    \"cuisine\": [\"Italian\", \"\", \"\", \"Chinese\", \"\"],\n",
        "    \"location\": [\"downtown\", \"suburbs\", \"downtown\", \"midtown\", \"rural\"],\n",
        "    \"price_range\": [\"moderate\", \"free\", \"expensive\", \"cheap\", \"Free\"],\n",
        "    \"rating\": [4.5, 4.7, 4.2, 4.0, 2.0]\n",
        "}\n",
        "\n",
        "df = pd.DataFrame(data)\n",
        "\n",
        "df\n",
        "\n",
        "#Example DF"
      ]
    },
    {
      "cell_type": "code",
      "execution_count": 3,
      "metadata": {
        "colab": {
          "base_uri": "https://localhost:8080/"
        },
        "id": "E7BsmQlhybw-",
        "outputId": "d8d2806e-21e8-4d7b-c6a3-3848651bfe20"
      },
      "outputs": [
        {
          "data": {
            "text/plain": [
              "{'type': 'restaurant',\n",
              " 'cuisine': 'Italian',\n",
              " 'location': 'downtown',\n",
              " 'price_range': 'moderate'}"
            ]
          },
          "execution_count": 3,
          "metadata": {},
          "output_type": "execute_result"
        }
      ],
      "source": [
        "#Overall user/Group preferences based on the quiz and AI input\n",
        "user_profile = {\n",
        "    \"type\": \"restaurant\",\n",
        "    \"cuisine\": \"Italian\",\n",
        "    \"location\": \"downtown\",\n",
        "    \"price_range\": \"moderate\"\n",
        "}\n",
        "user_profile\n"
      ]
    },
    {
      "cell_type": "code",
      "execution_count": 4,
      "metadata": {
        "colab": {
          "base_uri": "https://localhost:8080/",
          "height": 175
        },
        "id": "M2Npg1F-yfmP",
        "outputId": "24371631-0d23-4f54-f926-1ff2d5a8aa19"
      },
      "outputs": [
        {
          "data": {
            "text/html": [
              "<div>\n",
              "<style scoped>\n",
              "    .dataframe tbody tr th:only-of-type {\n",
              "        vertical-align: middle;\n",
              "    }\n",
              "\n",
              "    .dataframe tbody tr th {\n",
              "        vertical-align: top;\n",
              "    }\n",
              "\n",
              "    .dataframe thead th {\n",
              "        text-align: right;\n",
              "    }\n",
              "</style>\n",
              "<table border=\"1\" class=\"dataframe\">\n",
              "  <thead>\n",
              "    <tr style=\"text-align: right;\">\n",
              "      <th></th>\n",
              "      <th>place</th>\n",
              "      <th>type</th>\n",
              "      <th>cuisine</th>\n",
              "      <th>location</th>\n",
              "      <th>price_range</th>\n",
              "      <th>rating</th>\n",
              "    </tr>\n",
              "  </thead>\n",
              "  <tbody>\n",
              "    <tr>\n",
              "      <th>0</th>\n",
              "      <td>Place1</td>\n",
              "      <td>3</td>\n",
              "      <td>2</td>\n",
              "      <td>0</td>\n",
              "      <td>4</td>\n",
              "      <td>4.5</td>\n",
              "    </tr>\n",
              "    <tr>\n",
              "      <th>1</th>\n",
              "      <td>Place2</td>\n",
              "      <td>2</td>\n",
              "      <td>0</td>\n",
              "      <td>3</td>\n",
              "      <td>3</td>\n",
              "      <td>4.7</td>\n",
              "    </tr>\n",
              "    <tr>\n",
              "      <th>2</th>\n",
              "      <td>Place3</td>\n",
              "      <td>1</td>\n",
              "      <td>0</td>\n",
              "      <td>0</td>\n",
              "      <td>2</td>\n",
              "      <td>4.2</td>\n",
              "    </tr>\n",
              "    <tr>\n",
              "      <th>3</th>\n",
              "      <td>Place4</td>\n",
              "      <td>3</td>\n",
              "      <td>1</td>\n",
              "      <td>1</td>\n",
              "      <td>1</td>\n",
              "      <td>4.0</td>\n",
              "    </tr>\n",
              "    <tr>\n",
              "      <th>4</th>\n",
              "      <td>Place5</td>\n",
              "      <td>0</td>\n",
              "      <td>0</td>\n",
              "      <td>2</td>\n",
              "      <td>0</td>\n",
              "      <td>2.0</td>\n",
              "    </tr>\n",
              "  </tbody>\n",
              "</table>\n",
              "</div>"
            ],
            "text/plain": [
              "    place  type  cuisine  location  price_range  rating\n",
              "0  Place1     3        2         0            4     4.5\n",
              "1  Place2     2        0         3            3     4.7\n",
              "2  Place3     1        0         0            2     4.2\n",
              "3  Place4     3        1         1            1     4.0\n",
              "4  Place5     0        0         2            0     2.0"
            ]
          },
          "execution_count": 4,
          "metadata": {},
          "output_type": "execute_result"
        }
      ],
      "source": [
        "le_type = LabelEncoder()\n",
        "le_cuisine = LabelEncoder()\n",
        "le_location = LabelEncoder()\n",
        "le_price_range = LabelEncoder()\n",
        "\n",
        "df['type'] = le_type.fit_transform(df['type'])\n",
        "df['cuisine'] = le_cuisine.fit_transform(df['cuisine'])\n",
        "df['location'] = le_location.fit_transform(df['location'])\n",
        "df['price_range'] = le_price_range.fit_transform(df['price_range'])\n",
        "\n",
        "#Make everything number\n",
        "\n",
        "df\n",
        "\n"
      ]
    },
    {
      "cell_type": "code",
      "execution_count": 5,
      "metadata": {
        "colab": {
          "base_uri": "https://localhost:8080/"
        },
        "id": "4hKS70fDysET",
        "outputId": "899d99a7-8fb7-4351-a1cd-233c89f4aaf3"
      },
      "outputs": [
        {
          "data": {
            "text/plain": [
              "{'type': 3, 'cuisine': 2, 'location': 0, 'price_range': 4}"
            ]
          },
          "execution_count": 5,
          "metadata": {},
          "output_type": "execute_result"
        }
      ],
      "source": [
        "user_profile_encoded = {\n",
        "    \"type\": le_type.transform([user_profile['type']])[0],\n",
        "    \"cuisine\": le_cuisine.transform([user_profile['cuisine']])[0],\n",
        "    \"location\": le_location.transform([user_profile['location']])[0],\n",
        "    \"price_range\": le_price_range.transform([user_profile['price_range']])[0]\n",
        "}\n",
        "user_profile_encoded"
      ]
    },
    {
      "cell_type": "code",
      "execution_count": 6,
      "metadata": {
        "colab": {
          "base_uri": "https://localhost:8080/"
        },
        "id": "pAhQW0_yyype",
        "outputId": "3a4b39dd-cd9a-4671-d187-a64438566235"
      },
      "outputs": [
        {
          "name": "stdout",
          "output_type": "stream",
          "text": [
            "[[3 2 0 4]\n",
            " [2 0 3 3]\n",
            " [1 0 0 2]\n",
            " [3 1 1 1]\n",
            " [0 0 2 0]]\n",
            "[4.5 4.7 4.2 4.  2. ]\n"
          ]
        }
      ],
      "source": [
        "features = ['type', 'cuisine', 'location', 'price_range']\n",
        "X = df[features].values\n",
        "y = df['rating'].values\n",
        "\n",
        "print(X)\n",
        "print(y)\n",
        "\n"
      ]
    },
    {
      "cell_type": "code",
      "execution_count": 7,
      "metadata": {
        "colab": {
          "base_uri": "https://localhost:8080/"
        },
        "id": "PBtnqQZ5y48M",
        "outputId": "7f4c861a-7185-48c4-c0a2-fce973deb85d"
      },
      "outputs": [
        {
          "data": {
            "text/plain": [
              "tensor([[3., 2., 0., 4.]])"
            ]
          },
          "execution_count": 7,
          "metadata": {},
          "output_type": "execute_result"
        }
      ],
      "source": [
        "user_vector = torch.tensor([list(user_profile_encoded.values())], dtype=torch.float32)\n",
        "user_vector"
      ]
    },
    {
      "cell_type": "code",
      "execution_count": 8,
      "metadata": {
        "colab": {
          "base_uri": "https://localhost:8080/"
        },
        "id": "LcvTNCmazE6y",
        "outputId": "03f97a29-21e2-46dd-feb7-bb167fa5e181"
      },
      "outputs": [
        {
          "data": {
            "text/plain": [
              "SimpleNN(\n",
              "  (fc1): Linear(in_features=4, out_features=64, bias=True)\n",
              "  (fc2): Linear(in_features=64, out_features=32, bias=True)\n",
              "  (fc3): Linear(in_features=32, out_features=1, bias=True)\n",
              ")"
            ]
          },
          "execution_count": 8,
          "metadata": {},
          "output_type": "execute_result"
        }
      ],
      "source": [
        "#Make model Linear, can use relu\n",
        "\n",
        "class SimpleNN(nn.Module):\n",
        "    def __init__(self, input_dim):\n",
        "        super(SimpleNN, self).__init__()\n",
        "        self.fc1 = nn.Linear(input_dim, 64)\n",
        "        self.fc2 = nn.Linear(64, 32)\n",
        "        self.fc3 = nn.Linear(32, 1)\n",
        "\n",
        "    def forward(self, x):\n",
        "        x = torch.relu(self.fc1(x))\n",
        "        x = torch.relu(self.fc2(x))\n",
        "        x = self.fc3(x)\n",
        "        return x\n",
        "\n",
        "input_dim = X.shape[1]\n",
        "model = SimpleNN(input_dim)\n",
        "model"
      ]
    },
    {
      "cell_type": "code",
      "execution_count": 9,
      "metadata": {
        "colab": {
          "base_uri": "https://localhost:8080/"
        },
        "id": "zleW5NE_zKXQ",
        "outputId": "4ef9be73-262b-4f0a-dd55-dd55bbf59065"
      },
      "outputs": [
        {
          "name": "stdout",
          "output_type": "stream",
          "text": [
            "Epoch [100/1000], Loss: 0.0002\n",
            "Epoch [200/1000], Loss: 0.0000\n",
            "Epoch [300/1000], Loss: 0.0000\n",
            "Epoch [400/1000], Loss: 0.0000\n",
            "Epoch [500/1000], Loss: 0.0000\n",
            "Epoch [600/1000], Loss: 0.0000\n",
            "Epoch [700/1000], Loss: 0.0000\n",
            "Epoch [800/1000], Loss: 0.0000\n",
            "Epoch [900/1000], Loss: 0.0000\n",
            "Epoch [1000/1000], Loss: 0.0000\n"
          ]
        }
      ],
      "source": [
        "criterion = nn.MSELoss()\n",
        "optimizer = torch.optim.Adam(model.parameters(), lr=0.01)\n",
        "\n",
        "X_train, X_test, y_train, y_test = train_test_split(X, y, test_size=0.2, random_state=42)\n",
        "X_train_tensor = torch.tensor(X_train, dtype=torch.float32)\n",
        "y_train_tensor = torch.tensor(y_train, dtype=torch.float32).view(-1, 1)\n",
        "X_test_tensor = torch.tensor(X_test, dtype=torch.float32)\n",
        "y_test_tensor = torch.tensor(y_test, dtype=torch.float32).view(-1, 1)\n",
        "\n",
        "epochs = 1000\n",
        "for epoch in range(epochs):\n",
        "    model.train()\n",
        "    optimizer.zero_grad()\n",
        "    outputs = model(X_train_tensor)\n",
        "    loss = criterion(outputs, y_train_tensor)\n",
        "    loss.backward()\n",
        "    optimizer.step()\n",
        "\n",
        "    if (epoch+1) % 100 == 0:\n",
        "        print(f'Epoch [{epoch+1}/{epochs}], Loss: {loss.item():.4f}')\n"
      ]
    },
    {
      "cell_type": "code",
      "execution_count": 10,
      "metadata": {
        "colab": {
          "base_uri": "https://localhost:8080/",
          "height": 175
        },
        "id": "w7ov8t0MzNOU",
        "outputId": "8f0d521c-c32e-4f36-efdc-0ebe7c25615d"
      },
      "outputs": [
        {
          "data": {
            "text/html": [
              "<div>\n",
              "<style scoped>\n",
              "    .dataframe tbody tr th:only-of-type {\n",
              "        vertical-align: middle;\n",
              "    }\n",
              "\n",
              "    .dataframe tbody tr th {\n",
              "        vertical-align: top;\n",
              "    }\n",
              "\n",
              "    .dataframe thead th {\n",
              "        text-align: right;\n",
              "    }\n",
              "</style>\n",
              "<table border=\"1\" class=\"dataframe\">\n",
              "  <thead>\n",
              "    <tr style=\"text-align: right;\">\n",
              "      <th></th>\n",
              "      <th>place</th>\n",
              "      <th>type</th>\n",
              "      <th>cuisine</th>\n",
              "      <th>location</th>\n",
              "      <th>price_range</th>\n",
              "      <th>rating</th>\n",
              "      <th>content_similarity</th>\n",
              "    </tr>\n",
              "  </thead>\n",
              "  <tbody>\n",
              "    <tr>\n",
              "      <th>0</th>\n",
              "      <td>Place1</td>\n",
              "      <td>3</td>\n",
              "      <td>2</td>\n",
              "      <td>0</td>\n",
              "      <td>4</td>\n",
              "      <td>4.5</td>\n",
              "      <td>1.000000</td>\n",
              "    </tr>\n",
              "    <tr>\n",
              "      <th>1</th>\n",
              "      <td>Place2</td>\n",
              "      <td>2</td>\n",
              "      <td>0</td>\n",
              "      <td>3</td>\n",
              "      <td>3</td>\n",
              "      <td>4.7</td>\n",
              "      <td>0.712627</td>\n",
              "    </tr>\n",
              "    <tr>\n",
              "      <th>2</th>\n",
              "      <td>Place3</td>\n",
              "      <td>1</td>\n",
              "      <td>0</td>\n",
              "      <td>0</td>\n",
              "      <td>2</td>\n",
              "      <td>4.2</td>\n",
              "      <td>0.913500</td>\n",
              "    </tr>\n",
              "    <tr>\n",
              "      <th>3</th>\n",
              "      <td>Place4</td>\n",
              "      <td>3</td>\n",
              "      <td>1</td>\n",
              "      <td>1</td>\n",
              "      <td>1</td>\n",
              "      <td>4.0</td>\n",
              "      <td>0.804084</td>\n",
              "    </tr>\n",
              "    <tr>\n",
              "      <th>4</th>\n",
              "      <td>Place5</td>\n",
              "      <td>0</td>\n",
              "      <td>0</td>\n",
              "      <td>2</td>\n",
              "      <td>0</td>\n",
              "      <td>2.0</td>\n",
              "      <td>0.000000</td>\n",
              "    </tr>\n",
              "  </tbody>\n",
              "</table>\n",
              "</div>"
            ],
            "text/plain": [
              "    place  type  cuisine  location  price_range  rating  content_similarity\n",
              "0  Place1     3        2         0            4     4.5            1.000000\n",
              "1  Place2     2        0         3            3     4.7            0.712627\n",
              "2  Place3     1        0         0            2     4.2            0.913500\n",
              "3  Place4     3        1         1            1     4.0            0.804084\n",
              "4  Place5     0        0         2            0     2.0            0.000000"
            ]
          },
          "execution_count": 10,
          "metadata": {},
          "output_type": "execute_result"
        }
      ],
      "source": [
        "model.eval()\n",
        "with torch.no_grad():\n",
        "    place_vectors = torch.tensor(X, dtype=torch.float32)\n",
        "    user_similarity = cosine_similarity(user_vector.numpy(), place_vectors.numpy())\n",
        "    df['content_similarity'] = user_similarity[0]\n",
        "df\n"
      ]
    },
    {
      "cell_type": "code",
      "execution_count": null,
      "metadata": {
        "colab": {
          "base_uri": "https://localhost:8080/",
          "height": 332
        },
        "id": "VfOHvXlNzVWH",
        "outputId": "17e50e3c-eac6-4269-8935-fa16d0f8f2c0"
      },
      "outputs": [
        {
          "data": {
            "application/vnd.google.colaboratory.intrinsic+json": {
              "summary": "{\n  \"name\": \"ratings\",\n  \"rows\": 9,\n  \"fields\": [\n    {\n      \"column\": \"user\",\n      \"properties\": {\n        \"dtype\": \"number\",\n        \"std\": 0,\n        \"min\": 1,\n        \"max\": 3,\n        \"num_unique_values\": 3,\n        \"samples\": [\n          1,\n          2,\n          3\n        ],\n        \"semantic_type\": \"\",\n        \"description\": \"\"\n      }\n    },\n    {\n      \"column\": \"place\",\n      \"properties\": {\n        \"dtype\": \"category\",\n        \"num_unique_values\": 4,\n        \"samples\": [\n          \"Place2\",\n          \"Place4\",\n          \"Place1\"\n        ],\n        \"semantic_type\": \"\",\n        \"description\": \"\"\n      }\n    },\n    {\n      \"column\": \"rating\",\n      \"properties\": {\n        \"dtype\": \"number\",\n        \"std\": 0,\n        \"min\": 2,\n        \"max\": 5,\n        \"num_unique_values\": 4,\n        \"samples\": [\n          4,\n          2,\n          5\n        ],\n        \"semantic_type\": \"\",\n        \"description\": \"\"\n      }\n    }\n  ]\n}",
              "type": "dataframe",
              "variable_name": "ratings"
            },
            "text/html": [
              "\n",
              "  <div id=\"df-c56aa1fb-af54-417b-9868-8ee5cb56d8e4\" class=\"colab-df-container\">\n",
              "    <div>\n",
              "<style scoped>\n",
              "    .dataframe tbody tr th:only-of-type {\n",
              "        vertical-align: middle;\n",
              "    }\n",
              "\n",
              "    .dataframe tbody tr th {\n",
              "        vertical-align: top;\n",
              "    }\n",
              "\n",
              "    .dataframe thead th {\n",
              "        text-align: right;\n",
              "    }\n",
              "</style>\n",
              "<table border=\"1\" class=\"dataframe\">\n",
              "  <thead>\n",
              "    <tr style=\"text-align: right;\">\n",
              "      <th></th>\n",
              "      <th>user</th>\n",
              "      <th>place</th>\n",
              "      <th>rating</th>\n",
              "    </tr>\n",
              "  </thead>\n",
              "  <tbody>\n",
              "    <tr>\n",
              "      <th>0</th>\n",
              "      <td>1</td>\n",
              "      <td>Place1</td>\n",
              "      <td>5</td>\n",
              "    </tr>\n",
              "    <tr>\n",
              "      <th>1</th>\n",
              "      <td>1</td>\n",
              "      <td>Place2</td>\n",
              "      <td>4</td>\n",
              "    </tr>\n",
              "    <tr>\n",
              "      <th>2</th>\n",
              "      <td>1</td>\n",
              "      <td>Place3</td>\n",
              "      <td>4</td>\n",
              "    </tr>\n",
              "    <tr>\n",
              "      <th>3</th>\n",
              "      <td>2</td>\n",
              "      <td>Place1</td>\n",
              "      <td>5</td>\n",
              "    </tr>\n",
              "    <tr>\n",
              "      <th>4</th>\n",
              "      <td>2</td>\n",
              "      <td>Place4</td>\n",
              "      <td>4</td>\n",
              "    </tr>\n",
              "    <tr>\n",
              "      <th>5</th>\n",
              "      <td>3</td>\n",
              "      <td>Place1</td>\n",
              "      <td>3</td>\n",
              "    </tr>\n",
              "    <tr>\n",
              "      <th>6</th>\n",
              "      <td>3</td>\n",
              "      <td>Place2</td>\n",
              "      <td>2</td>\n",
              "    </tr>\n",
              "    <tr>\n",
              "      <th>7</th>\n",
              "      <td>3</td>\n",
              "      <td>Place3</td>\n",
              "      <td>4</td>\n",
              "    </tr>\n",
              "    <tr>\n",
              "      <th>8</th>\n",
              "      <td>3</td>\n",
              "      <td>Place4</td>\n",
              "      <td>4</td>\n",
              "    </tr>\n",
              "  </tbody>\n",
              "</table>\n",
              "</div>\n",
              "    <div class=\"colab-df-buttons\">\n",
              "\n",
              "  <div class=\"colab-df-container\">\n",
              "    <button class=\"colab-df-convert\" onclick=\"convertToInteractive('df-c56aa1fb-af54-417b-9868-8ee5cb56d8e4')\"\n",
              "            title=\"Convert this dataframe to an interactive table.\"\n",
              "            style=\"display:none;\">\n",
              "\n",
              "  <svg xmlns=\"http://www.w3.org/2000/svg\" height=\"24px\" viewBox=\"0 -960 960 960\">\n",
              "    <path d=\"M120-120v-720h720v720H120Zm60-500h600v-160H180v160Zm220 220h160v-160H400v160Zm0 220h160v-160H400v160ZM180-400h160v-160H180v160Zm440 0h160v-160H620v160ZM180-180h160v-160H180v160Zm440 0h160v-160H620v160Z\"/>\n",
              "  </svg>\n",
              "    </button>\n",
              "\n",
              "  <style>\n",
              "    .colab-df-container {\n",
              "      display:flex;\n",
              "      gap: 12px;\n",
              "    }\n",
              "\n",
              "    .colab-df-convert {\n",
              "      background-color: #E8F0FE;\n",
              "      border: none;\n",
              "      border-radius: 50%;\n",
              "      cursor: pointer;\n",
              "      display: none;\n",
              "      fill: #1967D2;\n",
              "      height: 32px;\n",
              "      padding: 0 0 0 0;\n",
              "      width: 32px;\n",
              "    }\n",
              "\n",
              "    .colab-df-convert:hover {\n",
              "      background-color: #E2EBFA;\n",
              "      box-shadow: 0px 1px 2px rgba(60, 64, 67, 0.3), 0px 1px 3px 1px rgba(60, 64, 67, 0.15);\n",
              "      fill: #174EA6;\n",
              "    }\n",
              "\n",
              "    .colab-df-buttons div {\n",
              "      margin-bottom: 4px;\n",
              "    }\n",
              "\n",
              "    [theme=dark] .colab-df-convert {\n",
              "      background-color: #3B4455;\n",
              "      fill: #D2E3FC;\n",
              "    }\n",
              "\n",
              "    [theme=dark] .colab-df-convert:hover {\n",
              "      background-color: #434B5C;\n",
              "      box-shadow: 0px 1px 3px 1px rgba(0, 0, 0, 0.15);\n",
              "      filter: drop-shadow(0px 1px 2px rgba(0, 0, 0, 0.3));\n",
              "      fill: #FFFFFF;\n",
              "    }\n",
              "  </style>\n",
              "\n",
              "    <script>\n",
              "      const buttonEl =\n",
              "        document.querySelector('#df-c56aa1fb-af54-417b-9868-8ee5cb56d8e4 button.colab-df-convert');\n",
              "      buttonEl.style.display =\n",
              "        google.colab.kernel.accessAllowed ? 'block' : 'none';\n",
              "\n",
              "      async function convertToInteractive(key) {\n",
              "        const element = document.querySelector('#df-c56aa1fb-af54-417b-9868-8ee5cb56d8e4');\n",
              "        const dataTable =\n",
              "          await google.colab.kernel.invokeFunction('convertToInteractive',\n",
              "                                                    [key], {});\n",
              "        if (!dataTable) return;\n",
              "\n",
              "        const docLinkHtml = 'Like what you see? Visit the ' +\n",
              "          '<a target=\"_blank\" href=https://colab.research.google.com/notebooks/data_table.ipynb>data table notebook</a>'\n",
              "          + ' to learn more about interactive tables.';\n",
              "        element.innerHTML = '';\n",
              "        dataTable['output_type'] = 'display_data';\n",
              "        await google.colab.output.renderOutput(dataTable, element);\n",
              "        const docLink = document.createElement('div');\n",
              "        docLink.innerHTML = docLinkHtml;\n",
              "        element.appendChild(docLink);\n",
              "      }\n",
              "    </script>\n",
              "  </div>\n",
              "\n",
              "\n",
              "<div id=\"df-b2d96c1d-9e25-4686-804c-fedb3ab4677f\">\n",
              "  <button class=\"colab-df-quickchart\" onclick=\"quickchart('df-b2d96c1d-9e25-4686-804c-fedb3ab4677f')\"\n",
              "            title=\"Suggest charts\"\n",
              "            style=\"display:none;\">\n",
              "\n",
              "<svg xmlns=\"http://www.w3.org/2000/svg\" height=\"24px\"viewBox=\"0 0 24 24\"\n",
              "     width=\"24px\">\n",
              "    <g>\n",
              "        <path d=\"M19 3H5c-1.1 0-2 .9-2 2v14c0 1.1.9 2 2 2h14c1.1 0 2-.9 2-2V5c0-1.1-.9-2-2-2zM9 17H7v-7h2v7zm4 0h-2V7h2v10zm4 0h-2v-4h2v4z\"/>\n",
              "    </g>\n",
              "</svg>\n",
              "  </button>\n",
              "\n",
              "<style>\n",
              "  .colab-df-quickchart {\n",
              "      --bg-color: #E8F0FE;\n",
              "      --fill-color: #1967D2;\n",
              "      --hover-bg-color: #E2EBFA;\n",
              "      --hover-fill-color: #174EA6;\n",
              "      --disabled-fill-color: #AAA;\n",
              "      --disabled-bg-color: #DDD;\n",
              "  }\n",
              "\n",
              "  [theme=dark] .colab-df-quickchart {\n",
              "      --bg-color: #3B4455;\n",
              "      --fill-color: #D2E3FC;\n",
              "      --hover-bg-color: #434B5C;\n",
              "      --hover-fill-color: #FFFFFF;\n",
              "      --disabled-bg-color: #3B4455;\n",
              "      --disabled-fill-color: #666;\n",
              "  }\n",
              "\n",
              "  .colab-df-quickchart {\n",
              "    background-color: var(--bg-color);\n",
              "    border: none;\n",
              "    border-radius: 50%;\n",
              "    cursor: pointer;\n",
              "    display: none;\n",
              "    fill: var(--fill-color);\n",
              "    height: 32px;\n",
              "    padding: 0;\n",
              "    width: 32px;\n",
              "  }\n",
              "\n",
              "  .colab-df-quickchart:hover {\n",
              "    background-color: var(--hover-bg-color);\n",
              "    box-shadow: 0 1px 2px rgba(60, 64, 67, 0.3), 0 1px 3px 1px rgba(60, 64, 67, 0.15);\n",
              "    fill: var(--button-hover-fill-color);\n",
              "  }\n",
              "\n",
              "  .colab-df-quickchart-complete:disabled,\n",
              "  .colab-df-quickchart-complete:disabled:hover {\n",
              "    background-color: var(--disabled-bg-color);\n",
              "    fill: var(--disabled-fill-color);\n",
              "    box-shadow: none;\n",
              "  }\n",
              "\n",
              "  .colab-df-spinner {\n",
              "    border: 2px solid var(--fill-color);\n",
              "    border-color: transparent;\n",
              "    border-bottom-color: var(--fill-color);\n",
              "    animation:\n",
              "      spin 1s steps(1) infinite;\n",
              "  }\n",
              "\n",
              "  @keyframes spin {\n",
              "    0% {\n",
              "      border-color: transparent;\n",
              "      border-bottom-color: var(--fill-color);\n",
              "      border-left-color: var(--fill-color);\n",
              "    }\n",
              "    20% {\n",
              "      border-color: transparent;\n",
              "      border-left-color: var(--fill-color);\n",
              "      border-top-color: var(--fill-color);\n",
              "    }\n",
              "    30% {\n",
              "      border-color: transparent;\n",
              "      border-left-color: var(--fill-color);\n",
              "      border-top-color: var(--fill-color);\n",
              "      border-right-color: var(--fill-color);\n",
              "    }\n",
              "    40% {\n",
              "      border-color: transparent;\n",
              "      border-right-color: var(--fill-color);\n",
              "      border-top-color: var(--fill-color);\n",
              "    }\n",
              "    60% {\n",
              "      border-color: transparent;\n",
              "      border-right-color: var(--fill-color);\n",
              "    }\n",
              "    80% {\n",
              "      border-color: transparent;\n",
              "      border-right-color: var(--fill-color);\n",
              "      border-bottom-color: var(--fill-color);\n",
              "    }\n",
              "    90% {\n",
              "      border-color: transparent;\n",
              "      border-bottom-color: var(--fill-color);\n",
              "    }\n",
              "  }\n",
              "</style>\n",
              "\n",
              "  <script>\n",
              "    async function quickchart(key) {\n",
              "      const quickchartButtonEl =\n",
              "        document.querySelector('#' + key + ' button');\n",
              "      quickchartButtonEl.disabled = true;  // To prevent multiple clicks.\n",
              "      quickchartButtonEl.classList.add('colab-df-spinner');\n",
              "      try {\n",
              "        const charts = await google.colab.kernel.invokeFunction(\n",
              "            'suggestCharts', [key], {});\n",
              "      } catch (error) {\n",
              "        console.error('Error during call to suggestCharts:', error);\n",
              "      }\n",
              "      quickchartButtonEl.classList.remove('colab-df-spinner');\n",
              "      quickchartButtonEl.classList.add('colab-df-quickchart-complete');\n",
              "    }\n",
              "    (() => {\n",
              "      let quickchartButtonEl =\n",
              "        document.querySelector('#df-b2d96c1d-9e25-4686-804c-fedb3ab4677f button');\n",
              "      quickchartButtonEl.style.display =\n",
              "        google.colab.kernel.accessAllowed ? 'block' : 'none';\n",
              "    })();\n",
              "  </script>\n",
              "</div>\n",
              "\n",
              "  <div id=\"id_5e4ed1e8-ef60-4ff0-a5ef-cfd8a3681f1d\">\n",
              "    <style>\n",
              "      .colab-df-generate {\n",
              "        background-color: #E8F0FE;\n",
              "        border: none;\n",
              "        border-radius: 50%;\n",
              "        cursor: pointer;\n",
              "        display: none;\n",
              "        fill: #1967D2;\n",
              "        height: 32px;\n",
              "        padding: 0 0 0 0;\n",
              "        width: 32px;\n",
              "      }\n",
              "\n",
              "      .colab-df-generate:hover {\n",
              "        background-color: #E2EBFA;\n",
              "        box-shadow: 0px 1px 2px rgba(60, 64, 67, 0.3), 0px 1px 3px 1px rgba(60, 64, 67, 0.15);\n",
              "        fill: #174EA6;\n",
              "      }\n",
              "\n",
              "      [theme=dark] .colab-df-generate {\n",
              "        background-color: #3B4455;\n",
              "        fill: #D2E3FC;\n",
              "      }\n",
              "\n",
              "      [theme=dark] .colab-df-generate:hover {\n",
              "        background-color: #434B5C;\n",
              "        box-shadow: 0px 1px 3px 1px rgba(0, 0, 0, 0.15);\n",
              "        filter: drop-shadow(0px 1px 2px rgba(0, 0, 0, 0.3));\n",
              "        fill: #FFFFFF;\n",
              "      }\n",
              "    </style>\n",
              "    <button class=\"colab-df-generate\" onclick=\"generateWithVariable('ratings')\"\n",
              "            title=\"Generate code using this dataframe.\"\n",
              "            style=\"display:none;\">\n",
              "\n",
              "  <svg xmlns=\"http://www.w3.org/2000/svg\" height=\"24px\"viewBox=\"0 0 24 24\"\n",
              "       width=\"24px\">\n",
              "    <path d=\"M7,19H8.4L18.45,9,17,7.55,7,17.6ZM5,21V16.75L18.45,3.32a2,2,0,0,1,2.83,0l1.4,1.43a1.91,1.91,0,0,1,.58,1.4,1.91,1.91,0,0,1-.58,1.4L9.25,21ZM18.45,9,17,7.55Zm-12,3A5.31,5.31,0,0,0,4.9,8.1,5.31,5.31,0,0,0,1,6.5,5.31,5.31,0,0,0,4.9,4.9,5.31,5.31,0,0,0,6.5,1,5.31,5.31,0,0,0,8.1,4.9,5.31,5.31,0,0,0,12,6.5,5.46,5.46,0,0,0,6.5,12Z\"/>\n",
              "  </svg>\n",
              "    </button>\n",
              "    <script>\n",
              "      (() => {\n",
              "      const buttonEl =\n",
              "        document.querySelector('#id_5e4ed1e8-ef60-4ff0-a5ef-cfd8a3681f1d button.colab-df-generate');\n",
              "      buttonEl.style.display =\n",
              "        google.colab.kernel.accessAllowed ? 'block' : 'none';\n",
              "\n",
              "      buttonEl.onclick = () => {\n",
              "        google.colab.notebook.generateWithVariable('ratings');\n",
              "      }\n",
              "      })();\n",
              "    </script>\n",
              "  </div>\n",
              "\n",
              "    </div>\n",
              "  </div>\n"
            ],
            "text/plain": [
              "   user   place  rating\n",
              "0     1  Place1       5\n",
              "1     1  Place2       4\n",
              "2     1  Place3       4\n",
              "3     2  Place1       5\n",
              "4     2  Place4       4\n",
              "5     3  Place1       3\n",
              "6     3  Place2       2\n",
              "7     3  Place3       4\n",
              "8     3  Place4       4"
            ]
          },
          "execution_count": 97,
          "metadata": {},
          "output_type": "execute_result"
        }
      ],
      "source": [
        "\n",
        "#Colalboarative starts here\n",
        "ratings = pd.DataFrame({\n",
        "    \"user\": [1, 1, 1, 2, 2, 3, 3, 3, 3],\n",
        "    \"place\": [\"Place1\", \"Place2\", \"Place3\", \"Place1\", \"Place4\", \"Place1\", \"Place2\", \"Place3\", \"Place4\"],\n",
        "    \"rating\": [5, 4, 4, 5, 4, 3, 2, 4, 4]\n",
        "})\n",
        "\n",
        "ratings"
      ]
    },
    {
      "cell_type": "code",
      "execution_count": null,
      "metadata": {
        "colab": {
          "base_uri": "https://localhost:8080/"
        },
        "id": "tOUhlz-hIt9S",
        "outputId": "2a215bda-3be1-49e6-9070-65f95a5d4286"
      },
      "outputs": [
        {
          "name": "stdout",
          "output_type": "stream",
          "text": [
            "   user   place  rating\n",
            "0     1  Place1       5\n",
            "1     1  Place2       4\n",
            "2     1  Place3       4\n",
            "3     2  Place1       5\n",
            "6     3  Place2       2\n",
            "7     3  Place3       4\n",
            "8     3  Place4       4\n",
            "   user   place  rating\n",
            "4     2  Place4       4\n",
            "5     3  Place1       3\n"
          ]
        }
      ],
      "source": [
        "#Split\n",
        "np.random.seed(3)\n",
        "msk = np.random.rand(len(ratings)) < 0.8\n",
        "train = ratings[msk].copy()\n",
        "val = ratings[~msk].copy()\n",
        "print(train)\n",
        "print(val)\n"
      ]
    },
    {
      "cell_type": "code",
      "execution_count": null,
      "metadata": {
        "colab": {
          "base_uri": "https://localhost:8080/"
        },
        "id": "JprZMy1oZ9et",
        "outputId": "da82e82f-b9dc-4864-bbd7-25ef3d681537"
      },
      "outputs": [
        {
          "data": {
            "text/plain": [
              "(   user  place  rating\n",
              " 0     0      0       5\n",
              " 1     0      1       4\n",
              " 2     0      2       4\n",
              " 3     1      0       5\n",
              " 6     2      1       2\n",
              " 7     2      2       4\n",
              " 8     2      3       4,\n",
              "    user  place  rating\n",
              " 4     1      3       4\n",
              " 5     2      0       3)"
            ]
          },
          "execution_count": 99,
          "metadata": {},
          "output_type": "execute_result"
        }
      ],
      "source": [
        "# Combine train and val sets to ensure encoding dictionaries include all IDs\n",
        "all_ratings = pd.concat([train, val])\n",
        "\n",
        "user_ids = all_ratings[\"user\"].unique()\n",
        "place_ids = all_ratings[\"place\"].unique()\n",
        "\n",
        "user_id_to_index = {user_id: index for index, user_id in enumerate(user_ids)}\n",
        "place_id_to_index = {place_id: index for index, place_id in enumerate(place_ids)}\n",
        "\n",
        "# Encode user and place IDs in train and val sets so we can use it\n",
        "train[\"user\"] = train[\"user\"].apply(lambda x: user_id_to_index[x])\n",
        "train[\"place\"] = train[\"place\"].apply(lambda x: place_id_to_index[x])\n",
        "val[\"user\"] = val[\"user\"].apply(lambda x: user_id_to_index[x])\n",
        "val[\"place\"] = val[\"place\"].apply(lambda x: place_id_to_index[x])\n",
        "\n",
        "num_users = len(user_ids)\n",
        "num_places = len(place_ids)\n",
        "train, val"
      ]
    },
    {
      "cell_type": "code",
      "execution_count": null,
      "metadata": {
        "colab": {
          "base_uri": "https://localhost:8080/"
        },
        "id": "ZdnSplYTaZIs",
        "outputId": "d774ce54-462e-4638-a68b-42b1473c7561"
      },
      "outputs": [
        {
          "data": {
            "text/plain": [
              "MF(\n",
              "  (user_emb): Embedding(3, 100)\n",
              "  (item_emb): Embedding(4, 100)\n",
              ")"
            ]
          },
          "execution_count": 100,
          "metadata": {},
          "output_type": "execute_result"
        }
      ],
      "source": [
        "index_to_place_id = {index: place_id for place_id, index in place_id_to_index.items()}\n",
        "\n",
        "class MF(nn.Module):\n",
        "    def __init__(self, num_users, num_items, emb_size=100):\n",
        "        super(MF, self).__init__()\n",
        "        self.user_emb = nn.Embedding(num_users, emb_size)\n",
        "        self.item_emb = nn.Embedding(num_items, emb_size)\n",
        "        self.user_emb.weight.data.uniform_(0, 0.05)\n",
        "        self.item_emb.weight.data.uniform_(0, 0.05)\n",
        "\n",
        "    def forward(self, u, v):\n",
        "        u = self.user_emb(u)\n",
        "        v = self.item_emb(v)\n",
        "        return (u*v).sum(1)\n",
        "model_cf = MF(num_users, num_places, emb_size=100)\n",
        "model_cf"
      ]
    },
    {
      "cell_type": "code",
      "execution_count": null,
      "metadata": {
        "colab": {
          "base_uri": "https://localhost:8080/"
        },
        "id": "m6LFzIM3bYbb",
        "outputId": "f7575f96-8251-4038-d4e2-10cca1723666"
      },
      "outputs": [
        {
          "name": "stdout",
          "output_type": "stream",
          "text": [
            "Epoch [100/1000], Loss: 0.0539\n",
            "Epoch [200/1000], Loss: 0.0000\n",
            "Epoch [300/1000], Loss: 0.0000\n",
            "Epoch [400/1000], Loss: 0.0000\n",
            "Epoch [500/1000], Loss: 0.0000\n",
            "Epoch [600/1000], Loss: 0.0000\n",
            "Epoch [700/1000], Loss: 0.0000\n",
            "Epoch [800/1000], Loss: 0.0000\n",
            "Epoch [900/1000], Loss: 0.0000\n",
            "Epoch [1000/1000], Loss: 0.0000\n"
          ]
        }
      ],
      "source": [
        "criterion = nn.MSELoss()\n",
        "optimizer = torch.optim.Adam(model_cf.parameters(), lr=0.01)\n",
        "#Treaining\n",
        "user_tensor = torch.tensor(train[\"user\"].values, dtype=torch.long)\n",
        "place_tensor = torch.tensor(train[\"place\"].values, dtype=torch.long)\n",
        "rating_tensor = torch.tensor(train[\"rating\"].values, dtype=torch.float32)\n",
        "\n",
        "epochs = 1000\n",
        "for epoch in range(epochs):\n",
        "    model_cf.train()\n",
        "    optimizer.zero_grad()\n",
        "    predictions = model_cf(user_tensor, place_tensor)\n",
        "    loss = criterion(predictions, rating_tensor)\n",
        "    loss.backward()\n",
        "    optimizer.step()\n",
        "\n",
        "    if (epoch+1) % 100 == 0:\n",
        "        print(f'Epoch [{epoch+1}/{epochs}], Loss: {loss.item():.4f}')\n"
      ]
    },
    {
      "cell_type": "code",
      "execution_count": null,
      "metadata": {
        "id": "sTJgsEk-cK98"
      },
      "outputs": [],
      "source": [
        "model_cf.eval()\n",
        "with torch.no_grad():\n",
        "    user_index = user_id_to_index[1]  # ID 1 pred\n",
        "    user_tensor = torch.tensor([user_index] * num_places, dtype=torch.long)\n",
        "    place_tensor = torch.tensor(list(range(num_places)), dtype=torch.long)\n",
        "    predictions = model_cf(user_tensor, place_tensor)\n",
        "    preds_df_cf = pd.DataFrame({\n",
        "        \"place\": [index_to_place_id[i] for i in range(num_places)],\n",
        "        \"collab_similarity\": predictions.numpy()\n",
        "    }).sort_values(by=\"collab_similarity\", ascending=False)\n",
        "\n",
        "sorted_user_predictions_cf = preds_df_cf.set_index(\"place\")[\"collab_similarity\"]\n"
      ]
    },
    {
      "cell_type": "code",
      "execution_count": null,
      "metadata": {
        "colab": {
          "base_uri": "https://localhost:8080/"
        },
        "id": "LQZuUxL5cTwZ",
        "outputId": "c8f97ba5-e0a5-4d73-d22f-3f4b8766fd8f"
      },
      "outputs": [
        {
          "name": "stdout",
          "output_type": "stream",
          "text": [
            "Combined DataFrame with Hybrid Score:\n",
            "    place  type  cuisine  location  price_range  rating  content_similarity  \\\n",
            "0  Place1     2        2         0            3     4.5            1.000000   \n",
            "3  Place4     2        1         1            0     4.0            0.594088   \n",
            "2  Place3     0        0         0            1     4.2            0.727607   \n",
            "1  Place2     1        0         2            2     4.7            0.646762   \n",
            "\n",
            "   collab_similarity  hybrid_score  \n",
            "0           5.000000      6.000000  \n",
            "3           4.958348      5.552436  \n",
            "2           4.000000      4.727607  \n",
            "1           4.000000      4.646762  \n"
          ]
        }
      ],
      "source": [
        "# Combine content-based and collaborative filtering recommendations\n",
        "df['collab_similarity'] = df['place'].apply(lambda x: sorted_user_predictions_cf[x] if x in sorted_user_predictions_cf.index else 0)\n",
        "\n",
        "#Can modify and scale this to get a better hlybrid score we will show on front end\n",
        "df[\"hybrid_score\"] = df[\"content_similarity\"] + df[\"collab_similarity\"]\n",
        "\n",
        "recommendations = df.sort_values(by=\"hybrid_score\", ascending=False)\n",
        "\n",
        "print(\"Combined DataFrame with Hybrid Score:\")\n",
        "print(recommendations)\n"
      ]
    }
  ],
  "metadata": {
    "colab": {
      "provenance": []
    },
    "kernelspec": {
      "display_name": "Python 3",
      "name": "python3"
    },
    "language_info": {
      "codemirror_mode": {
        "name": "ipython",
        "version": 3
      },
      "file_extension": ".py",
      "mimetype": "text/x-python",
      "name": "python",
      "nbconvert_exporter": "python",
      "pygments_lexer": "ipython3",
      "version": "3.12.4"
    }
  },
  "nbformat": 4,
  "nbformat_minor": 0
}
