{
 "cells": [
  {
   "cell_type": "code",
   "execution_count": 3,
   "metadata": {},
   "outputs": [],
   "source": [
    "# app.py\n",
    "from dotenv import load_dotenv\n",
    "import os\n",
    "from enum import Enum\n",
    "from services.appleSetup import AppleAuth\n",
    "from services.apple_maps import apple_maps_service\n",
    "from services.google_maps import google_maps_service\n",
    "from fastapi import FastAPI, Request, HTTPException, WebSocket, WebSocketDisconnect\n",
    "from pydantic import BaseModel\n",
    "from typing import List, Any, Optional, Dict\n",
    "import appwrite\n",
    "from appwrite.client import Client\n",
    "from appwrite.query import Query\n",
    "from appwrite.services.users import Users\n",
    "from appwrite.services.databases import Databases\n",
    "from appwrite.id import ID\n",
    "from apscheduler.schedulers.background import BackgroundScheduler\n",
    "from featureFunctions import get_search_region\n",
    "from apscheduler.triggers.interval import IntervalTrigger\n",
    "from datetime import datetime\n",
    "import googlemaps\n",
    "from appwrite.exception import AppwriteException\n",
    "import httpx\n",
    "import logging\n",
    "from fastapi.middleware.cors import CORSMiddleware\n",
    "from collections import defaultdict\n",
    "\n",
    "# Installed\n",
    "logging.basicConfig(level=logging.INFO)\n",
    "logger = logging.getLogger(__name__)\n",
    "load_dotenv()\n",
    "\n",
    "# Initialize Appwrite client\n",
    "client = Client()\n",
    "client.set_endpoint('https://cloud.appwrite.io/v1')\n",
    "client.set_project('66930c61001b090ab206')\n",
    "client.set_key(os.getenv('APPWRITE_API_KEY'))\n",
    "client.set_self_signed()\n",
    "\n",
    "appwrite_config = {\n",
    "    \"database_id\": \"66930e1000087eb0d4bd\",\n",
    "    \"user_collection_id\": \"66930e5900107bc194dc\",\n",
    "    \"preferences_collection_id\": \"6696016b00117bbf6352\",\n",
    "    \"friends_collection_id\": \"friends\",\n",
    "    \"locations_collection_id\": \"669d2a590010d4bf7d30\",\n",
    "    \"groups_collection_id\": \"Groups\",\n",
    "    \"contact_id\": \"66a419bb000fa8674a7e\"\n",
    "}\n",
    "\n",
    "database = Databases(client)\n",
    "users = Users(client)\n"
   ]
  },
  {
   "cell_type": "code",
   "execution_count": 18,
   "metadata": {},
   "outputs": [
    {
     "name": "stderr",
     "output_type": "stream",
     "text": [
      "/opt/miniconda3/envs/headStarterBackend/lib/python3.12/site-packages/urllib3/connectionpool.py:1099: InsecureRequestWarning: Unverified HTTPS request is being made to host 'cloud.appwrite.io'. Adding certificate verification is strongly advised. See: https://urllib3.readthedocs.io/en/latest/advanced-usage.html#tls-warnings\n",
      "  warnings.warn(\n",
      "/opt/miniconda3/envs/headStarterBackend/lib/python3.12/site-packages/urllib3/connectionpool.py:1099: InsecureRequestWarning: Unverified HTTPS request is being made to host 'cloud.appwrite.io'. Adding certificate verification is strongly advised. See: https://urllib3.readthedocs.io/en/latest/advanced-usage.html#tls-warnings\n",
      "  warnings.warn(\n",
      "/opt/miniconda3/envs/headStarterBackend/lib/python3.12/site-packages/urllib3/connectionpool.py:1099: InsecureRequestWarning: Unverified HTTPS request is being made to host 'cloud.appwrite.io'. Adding certificate verification is strongly advised. See: https://urllib3.readthedocs.io/en/latest/advanced-usage.html#tls-warnings\n",
      "  warnings.warn(\n"
     ]
    },
    {
     "name": "stdout",
     "output_type": "stream",
     "text": [
      "defaultdict(<class 'int'>, {'Japanese food': 1, 'Italian food': 2, 'Arcade': 2, 'Parks': 2, 'shopping': 4, 'Culture': 2, 'Golf': 2, 'Indian food': 1, 'British food': 1, 'Eating': 1, 'Beach': 2, 'Museums': 1, 'Football': 1, 'Korean food': 1, 'Spas': 2, 'Go Kart': 2, 'Mexican food': 1, 'Belgian food': 1, 'Pizza food': 1, 'Cinemas': 1, 'Bars': 1, 'Music': 1, 'Theme Parks': 1, 'Nightlife': 1, 'Club': 1, 'Historical Sites': 1, 'Soccer': 1, 'Aquatic Sports': 1, 'Live Sports': 1})\n"
     ]
    },
    {
     "name": "stderr",
     "output_type": "stream",
     "text": [
      "/opt/miniconda3/envs/headStarterBackend/lib/python3.12/site-packages/urllib3/connectionpool.py:1099: InsecureRequestWarning: Unverified HTTPS request is being made to host 'cloud.appwrite.io'. Adding certificate verification is strongly advised. See: https://urllib3.readthedocs.io/en/latest/advanced-usage.html#tls-warnings\n",
      "  warnings.warn(\n"
     ]
    }
   ],
   "source": [
    "#1. We get all the preferences from each of the users that are passed in\n",
    "#2: We get all the similar interests and the locations\n",
    "#3: We query apple maps on the common interests and then 2-3 randomly selected ones, and then put the results in a array\n",
    "\n",
    "def getPreferences(users: List[str]) -> Dict[str, Any]:\n",
    "    res = defaultdict(int)\n",
    "    for user in users:\n",
    "        preferences = database.get_document(\n",
    "            database_id=appwrite_config['database_id'],\n",
    "            collection_id=appwrite_config['preferences_collection_id'],\n",
    "            document_id=user\n",
    "        )\n",
    "        for key, value in preferences.items():\n",
    "            if key == 'cuisine':\n",
    "                for cuisine in value:\n",
    "                    res[f\"{cuisine} food\"] += 1\n",
    "            elif key == 'entertainment':\n",
    "                for entertainment in value:\n",
    "                    res[f\"{entertainment}\"] += 1\n",
    "            elif key == 'shopping':\n",
    "                if value == 'YES':\n",
    "                    res['shopping'] += 1\n",
    "            elif key == 'learning':\n",
    "                for learning in value:\n",
    "                    res[f\"{learning}\"] += 1\n",
    "            elif key == 'sports':\n",
    "                for sport in value:\n",
    "                    res[f\"{sport}\"] += 1\n",
    "\n",
    "    return res\n",
    "\n",
    "# Example usage\n",
    "preferences = getPreferences([\"66996b7b0025b402922b\", \"66996d2e00314baa2a20\", \"669b45980030c00f3b8c\", \"669c735c001355ea24a7\"])\n",
    "print(preferences)"
   ]
  },
  {
   "cell_type": "code",
   "execution_count": 19,
   "metadata": {},
   "outputs": [],
   "source": [
    "class Location(BaseModel):\n",
    "    lat: float\n",
    "    lon: float\n",
    "\n",
    "def calculate_centroid(locations: List[Location]) -> Dict[str, float]:\n",
    "    \"\"\"\n",
    "    Calculate the centroid of given locations.\n",
    "    \"\"\"\n",
    "    latitudes = [loc.lat for loc in locations]\n",
    "    longitudes = [loc.lon for loc in locations]\n",
    "\n",
    "    centroid_lat = sum(latitudes) / len(locations)\n",
    "    centroid_lon = sum(longitudes) / len(locations)\n",
    "\n",
    "    return {\"lat\": centroid_lat, \"lon\": centroid_lon}\n",
    "\n",
    "#Get centroid with soem locations"
   ]
  },
  {
   "cell_type": "code",
   "execution_count": 21,
   "metadata": {},
   "outputs": [],
   "source": [
    "#1. pass in the preferenes and location, sort preferences by volume and get the 10 most popular (if rest are ones randomly choose)\n",
    "\n",
    "class ProximityRecommendationRequest(BaseModel):\n",
    "    locations: List[Location]\n",
    "    interests: List[str]\n",
    "\n",
    "\n",
    "async def get_proximity_recommendations(request: ProximityRecommendationRequest):\n",
    "    \"\"\"\n",
    "    Generate recommendations based on the centroid of provided user locations.\n",
    "    \"\"\"\n",
    "    centroid = calculate_centroid(request.locations)\n",
    "    try:\n",
    "        all_recommendations = []\n",
    "        for interest in request.interests:\n",
    "            results = await apple_maps_service.search(interest, centroid['lat'], centroid['lon'])\n",
    "\n",
    "            all_recommendations.extend(results)\n",
    "\n",
    "        # Sort recommendations by distance from centroid (if needed)\n",
    "        sorted_recommendations = sorted(\n",
    "            all_recommendations,\n",
    "            key=lambda x: ((x['location']['lat'] - centroid['lat'])**2 +\n",
    "                           (x['location']['lon'] - centroid['lon'])**2)**0.5\n",
    "        )\n",
    "\n",
    "        # Limit to top N recommendations if needed\n",
    "        top_recommendations = sorted_recommendations\n",
    "\n",
    "        return {\"recommendations\": sorted_recommendations}\n",
    "    except Exception as e:\n",
    "        raise HTTPException(\n",
    "            status_code=500, detail=f\"Error getting recommendations: {str(e)}\")\n",
    "\n"
   ]
  },
  {
   "cell_type": "code",
   "execution_count": null,
   "metadata": {},
   "outputs": [],
   "source": []
  }
 ],
 "metadata": {
  "kernelspec": {
   "display_name": "headStarterBackend",
   "language": "python",
   "name": "python3"
  },
  "language_info": {
   "codemirror_mode": {
    "name": "ipython",
    "version": 3
   },
   "file_extension": ".py",
   "mimetype": "text/x-python",
   "name": "python",
   "nbconvert_exporter": "python",
   "pygments_lexer": "ipython3",
   "version": "3.12.4"
  }
 },
 "nbformat": 4,
 "nbformat_minor": 2
}
