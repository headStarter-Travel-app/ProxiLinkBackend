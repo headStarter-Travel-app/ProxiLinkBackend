{
 "cells": [
  {
   "cell_type": "code",
   "execution_count": 10,
   "metadata": {},
   "outputs": [],
   "source": [
    "# app.py\n",
    "from dotenv import load_dotenv\n",
    "import os\n",
    "from enum import Enum\n",
    "from services.appleSetup import AppleAuth\n",
    "from services.apple_maps import apple_maps_service\n",
    "from services.google_maps import google_maps_service\n",
    "from fastapi import FastAPI, Request, HTTPException, WebSocket, WebSocketDisconnect\n",
    "from pydantic import BaseModel\n",
    "from typing import List, Any, Optional, Dict\n",
    "import appwrite\n",
    "from appwrite.client import Client\n",
    "from appwrite.query import Query\n",
    "from appwrite.services.users import Users\n",
    "from appwrite.services.databases import Databases\n",
    "from appwrite.id import ID\n",
    "from apscheduler.schedulers.background import BackgroundScheduler\n",
    "from featureFunctions import get_search_region\n",
    "from apscheduler.triggers.interval import IntervalTrigger\n",
    "from datetime import datetime\n",
    "import googlemaps\n",
    "from appwrite.exception import AppwriteException\n",
    "import httpx\n",
    "import logging\n",
    "from fastapi.middleware.cors import CORSMiddleware\n",
    "from collections import defaultdict\n",
    "\n",
    "# Installed\n",
    "logging.basicConfig(level=logging.INFO)\n",
    "logger = logging.getLogger(__name__)\n",
    "load_dotenv()\n",
    "\n",
    "# Initialize Appwrite client\n",
    "client = Client()\n",
    "client.set_endpoint('https://cloud.appwrite.io/v1')\n",
    "client.set_project('66930c61001b090ab206')\n",
    "client.set_key(os.getenv('APPWRITE_API_KEY'))\n",
    "client.set_self_signed()\n",
    "\n",
    "appwrite_config = {\n",
    "    \"database_id\": \"66930e1000087eb0d4bd\",\n",
    "    \"user_collection_id\": \"66930e5900107bc194dc\",\n",
    "    \"preferences_collection_id\": \"6696016b00117bbf6352\",\n",
    "    \"friends_collection_id\": \"friends\",\n",
    "    \"locations_collection_id\": \"669d2a590010d4bf7d30\",\n",
    "    \"groups_collection_id\": \"Groups\",\n",
    "    \"contact_id\": \"66a419bb000fa8674a7e\"\n",
    "}\n",
    "\n",
    "database = Databases(client)\n",
    "users = Users(client)\n"
   ]
  },
  {
   "cell_type": "code",
   "execution_count": 11,
   "metadata": {},
   "outputs": [
    {
     "name": "stderr",
     "output_type": "stream",
     "text": [
      "/opt/miniconda3/envs/headStarterBackend/lib/python3.12/site-packages/urllib3/connectionpool.py:1099: InsecureRequestWarning: Unverified HTTPS request is being made to host 'cloud.appwrite.io'. Adding certificate verification is strongly advised. See: https://urllib3.readthedocs.io/en/latest/advanced-usage.html#tls-warnings\n",
      "  warnings.warn(\n",
      "/opt/miniconda3/envs/headStarterBackend/lib/python3.12/site-packages/urllib3/connectionpool.py:1099: InsecureRequestWarning: Unverified HTTPS request is being made to host 'cloud.appwrite.io'. Adding certificate verification is strongly advised. See: https://urllib3.readthedocs.io/en/latest/advanced-usage.html#tls-warnings\n",
      "  warnings.warn(\n",
      "/opt/miniconda3/envs/headStarterBackend/lib/python3.12/site-packages/urllib3/connectionpool.py:1099: InsecureRequestWarning: Unverified HTTPS request is being made to host 'cloud.appwrite.io'. Adding certificate verification is strongly advised. See: https://urllib3.readthedocs.io/en/latest/advanced-usage.html#tls-warnings\n",
      "  warnings.warn(\n",
      "/opt/miniconda3/envs/headStarterBackend/lib/python3.12/site-packages/urllib3/connectionpool.py:1099: InsecureRequestWarning: Unverified HTTPS request is being made to host 'cloud.appwrite.io'. Adding certificate verification is strongly advised. See: https://urllib3.readthedocs.io/en/latest/advanced-usage.html#tls-warnings\n",
      "  warnings.warn(\n"
     ]
    },
    {
     "name": "stdout",
     "output_type": "stream",
     "text": [
      "defaultdict(<class 'int'>, {'Japanese food': 1, 'Italian food': 2, 'Arcade': 2, 'Parks': 2, 'shopping': 4, 'Culture': 2, 'Golf': 2, 'Indian food': 1, 'British food': 1, 'Eating': 1, 'Beach': 2, 'Museums': 1, 'Football': 1, 'Korean food': 1, 'Spas': 2, 'Go Kart': 2, 'Mexican food': 1, 'Belgian food': 1, 'Pizza food': 1, 'Cinemas': 1, 'Bars': 1, 'Music': 1, 'Theme Parks': 1, 'Nightlife': 1, 'Club': 1, 'Historical Sites': 1, 'Soccer': 1, 'Aquatic Sports': 1, 'Live Sports': 1})\n"
     ]
    }
   ],
   "source": [
    "#1. We get all the preferences from each of the users that are passed in\n",
    "#2: We get all the similar interests and the locations\n",
    "#3: We query apple maps on the common interests and then 2-3 randomly selected ones, and then put the results in a array\n",
    "\n",
    "def getPreferences(users: List[str]) -> Dict[str, Any]:\n",
    "    res = defaultdict(int)\n",
    "    for user in users:\n",
    "        preferences = database.get_document(\n",
    "            database_id=appwrite_config['database_id'],\n",
    "            collection_id=appwrite_config['preferences_collection_id'],\n",
    "            document_id=user\n",
    "        )\n",
    "        for key, value in preferences.items():\n",
    "            if key == 'cuisine':\n",
    "                for cuisine in value:\n",
    "                    res[f\"{cuisine} food\"] += 1\n",
    "            elif key == 'entertainment':\n",
    "                for entertainment in value:\n",
    "                    res[f\"{entertainment}\"] += 1\n",
    "            elif key == 'shopping':\n",
    "                if value == 'YES':\n",
    "                    res['shopping'] += 1\n",
    "            elif key == 'learning':\n",
    "                for learning in value:\n",
    "                    res[f\"{learning}\"] += 1\n",
    "            elif key == 'sports':\n",
    "                for sport in value:\n",
    "                    res[f\"{sport}\"] += 1\n",
    "\n",
    "    return res\n",
    "\n",
    "# Example usage\n",
    "preferences = getPreferences([\"66996b7b0025b402922b\", \"66996d2e00314baa2a20\", \"669b45980030c00f3b8c\", \"669c735c001355ea24a7\"])\n",
    "print(preferences)"
   ]
  },
  {
   "cell_type": "code",
   "execution_count": 12,
   "metadata": {},
   "outputs": [],
   "source": [
    "class Location(BaseModel):\n",
    "    lat: float\n",
    "    lon: float\n",
    "\n",
    "def calculate_centroid(locations: List[Location]) -> Dict[str, float]:\n",
    "    \"\"\"\n",
    "    Calculate the centroid of given locations.\n",
    "    \"\"\"\n",
    "    latitudes = [loc.lat for loc in locations]\n",
    "    longitudes = [loc.lon for loc in locations]\n",
    "\n",
    "    centroid_lat = sum(latitudes) / len(locations)\n",
    "    centroid_lon = sum(longitudes) / len(locations)\n",
    "\n",
    "    return {\"lat\": centroid_lat, \"lon\": centroid_lon}\n",
    "\n",
    "#Get centroid with soem locations\n",
    "\n",
    "locations = [Location(lat=38.98582939, lon= -76.937329584)]\n"
   ]
  },
  {
   "cell_type": "code",
   "execution_count": 13,
   "metadata": {},
   "outputs": [
    {
     "name": "stdout",
     "output_type": "stream",
     "text": [
      "['shopping', 'Spas', 'Culture', 'Soccer', 'Cinemas', 'Golf', 'Football', 'Italian food', 'Theme Parks', 'Belgian food']\n"
     ]
    }
   ],
   "source": [
    "import random\n",
    "def getTopInterests(preferences: Dict[str, int], top_n: int = 10) -> List[str]:\n",
    "    # Filter preferences with values greater than 2\n",
    "    filtered_preferences = {k: v for k, v in preferences.items() if v > 2}\n",
    "    \n",
    "    # Sort the filtered preferences by value in descending order\n",
    "    sorted_preferences = sorted(filtered_preferences.items(), key=lambda item: item[1], reverse=True)\n",
    "    \n",
    "    # Get the top N keys\n",
    "    top_interests = [k for k, v in sorted_preferences[:top_n]]\n",
    "    \n",
    "    # If there are fewer than N keys, randomly select additional keys from the remaining preferences\n",
    "    if len(top_interests) < top_n:\n",
    "        remaining_preferences = {k: v for k, v in preferences.items() if k not in top_interests}\n",
    "        additional_interests = random.sample(list(remaining_preferences.keys()), top_n - len(top_interests))\n",
    "        top_interests.extend(additional_interests)\n",
    "    \n",
    "    return top_interests\n",
    "\n",
    "interestsPassin = getTopInterests(preferences)\n",
    "print(interestsPassin)\n"
   ]
  },
  {
   "cell_type": "code",
   "execution_count": 14,
   "metadata": {},
   "outputs": [
    {
     "name": "stdout",
     "output_type": "stream",
     "text": [
      "{'lat': 38.98582939, 'lon': -76.937329584}\n"
     ]
    },
    {
     "name": "stderr",
     "output_type": "stream",
     "text": [
      "INFO:httpx:HTTP Request: GET https://maps-api.apple.com/v1/token \"HTTP/1.1 200 OK\"\n",
      "INFO:httpx:HTTP Request: GET https://maps-api.apple.com/v1/search?q=shopping&searchLocation=38.98582939%2C-76.937329584 \"HTTP/1.1 200 OK\"\n",
      "INFO:httpx:HTTP Request: GET https://maps-api.apple.com/v1/token \"HTTP/1.1 200 OK\"\n",
      "INFO:httpx:HTTP Request: GET https://maps-api.apple.com/v1/search?q=Spas&searchLocation=38.98582939%2C-76.937329584 \"HTTP/1.1 200 OK\"\n",
      "INFO:httpx:HTTP Request: GET https://maps-api.apple.com/v1/token \"HTTP/1.1 200 OK\"\n",
      "INFO:httpx:HTTP Request: GET https://maps-api.apple.com/v1/search?q=Culture&searchLocation=38.98582939%2C-76.937329584 \"HTTP/1.1 200 OK\"\n",
      "INFO:httpx:HTTP Request: GET https://maps-api.apple.com/v1/token \"HTTP/1.1 200 OK\"\n",
      "INFO:httpx:HTTP Request: GET https://maps-api.apple.com/v1/search?q=Soccer&searchLocation=38.98582939%2C-76.937329584 \"HTTP/1.1 200 OK\"\n",
      "INFO:httpx:HTTP Request: GET https://maps-api.apple.com/v1/token \"HTTP/1.1 200 OK\"\n",
      "INFO:httpx:HTTP Request: GET https://maps-api.apple.com/v1/search?q=Cinemas&searchLocation=38.98582939%2C-76.937329584 \"HTTP/1.1 200 OK\"\n",
      "INFO:httpx:HTTP Request: GET https://maps-api.apple.com/v1/token \"HTTP/1.1 200 OK\"\n",
      "INFO:httpx:HTTP Request: GET https://maps-api.apple.com/v1/search?q=Golf&searchLocation=38.98582939%2C-76.937329584 \"HTTP/1.1 200 OK\"\n",
      "INFO:httpx:HTTP Request: GET https://maps-api.apple.com/v1/token \"HTTP/1.1 200 OK\"\n",
      "INFO:httpx:HTTP Request: GET https://maps-api.apple.com/v1/search?q=Football&searchLocation=38.98582939%2C-76.937329584 \"HTTP/1.1 200 OK\"\n",
      "INFO:httpx:HTTP Request: GET https://maps-api.apple.com/v1/token \"HTTP/1.1 200 OK\"\n",
      "INFO:httpx:HTTP Request: GET https://maps-api.apple.com/v1/search?q=Italian%20food&searchLocation=38.98582939%2C-76.937329584 \"HTTP/1.1 200 OK\"\n",
      "INFO:httpx:HTTP Request: GET https://maps-api.apple.com/v1/token \"HTTP/1.1 200 OK\"\n",
      "INFO:httpx:HTTP Request: GET https://maps-api.apple.com/v1/search?q=Theme%20Parks&searchLocation=38.98582939%2C-76.937329584 \"HTTP/1.1 200 OK\"\n",
      "INFO:httpx:HTTP Request: GET https://maps-api.apple.com/v1/token \"HTTP/1.1 200 OK\"\n",
      "INFO:httpx:HTTP Request: GET https://maps-api.apple.com/v1/search?q=Belgian%20food&searchLocation=38.98582939%2C-76.937329584 \"HTTP/1.1 200 OK\"\n"
     ]
    },
    {
     "name": "stdout",
     "output_type": "stream",
     "text": [
      "{'recommendations': [{'name': 'Potomac Pizza', 'address': '7777 Baltimore Ave, College Park, MD  20740, United States', 'location': {'lat': 38.9873178, 'lon': -76.9356036}, 'category': 'Restaurant'}, {'name': 'The Spa at The Hotel at the University of Maryland', 'address': '7777 Baltimore Ave, FL 4, College Park, MD  20740, United States', 'location': {'lat': 38.9869586, 'lon': -76.935151}, 'category': 'Spa'}, {'name': 'College Park Shopping Center', 'address': '7370 Baltimore Ave, College Park, MD  20740, United States', 'location': {'lat': 38.9806676, 'lon': -76.9390872}, 'category': 'Store'}, {'name': 'Hoff Theater', 'address': '3972 Campus Dr, College Park, MD 20742, United States', 'location': {'lat': 38.987949, 'lon': -76.944458}, 'category': 'Theater'}, {'name': 'Paint Branch Golf Complex', 'address': '4690 University Blvd, College Park, MD  20740, United States', 'location': {'lat': 39.0038245, 'lon': -76.93561}, 'category': 'Golf'}, {'name': 'University of Maryland Golf Course', 'address': '3800 Golf Course Rd, College Park, MD 20742, United States', 'location': {'lat': 38.9910788, 'lon': -76.9548726}, 'category': 'Golf'}, {'name': 'Regal Hyattsville Royale', 'address': '6505 America Blvd, Hyattsville, MD  20782, United States', 'location': {'lat': 38.9685647, 'lon': -76.9517171}, 'category': 'MovieTheater'}, {'name': 'Calvert Road Disc Golf Course', 'address': '5201 Paint Branch Pkwy, College Park, MD 20740, United States', 'location': {'lat': 38.9756263, 'lon': -76.9167584}, 'category': 'Golf'}, {'name': 'The Shoppes At Metro Station', 'address': '6211 Belcrest Rd, Hyattsville, MD  20782, United States', 'location': {'lat': 38.9655546, 'lon': -76.9532033}, 'category': 'Store'}, {'name': \"Mall at Prince George's\", 'address': '3500 East West Hwy, Hyattsville, MD 20782, United States', 'location': {'lat': 38.9683307, 'lon': -76.9574207}, 'category': 'Store'}, {'name': 'Lane Manor Splash Park', 'address': '7601 W Park Dr, Hyattsville, MD  20783, United States', 'location': {'lat': 38.9838485, 'lon': -76.9649845}, 'category': 'Park'}, {'name': 'Olive Garden Italian Restaurant', 'address': '3480 East-West Hwy, Hyattsville, MD  20782, United States', 'location': {'lat': 38.967275, 'lon': -76.9585524}, 'category': 'Restaurant'}, {'name': 'DeMatha Soccer Academy', 'address': '4313 Madison St, Hyattsville, MD  20781, United States', 'location': {'lat': 38.9579289, 'lon': -76.942261}, 'category': 'Soccer'}, {'name': 'Essential Day Spa 2', 'address': '5331 Baltimore Ave, Ste 106, Hyattsville, MD  20781, United States', 'location': {'lat': 38.9547558, 'lon': -76.9400233}, 'category': 'Spa'}, {'name': 'Mamma Lucia', 'address': '4734 Cherry Hill Rd, College Park, MD  20740, United States', 'location': {'lat': 39.016106, 'lon': -76.928265}, 'category': 'Restaurant'}, {'name': 'Beltway Plaza Mall', 'address': '6000 Greenbelt Rd, Greenbelt, MD 20770, United States', 'location': {'lat': 38.9994255, 'lon': -76.908567}, 'category': 'Store'}, {'name': 'Three Brothers Italian Restaurant', 'address': '6160 Greenbelt Rd, Greenbelt, MD  20770, United States', 'location': {'lat': 38.9994867, 'lon': -76.9085112}, 'category': 'Restaurant'}, {'name': 'AMC Academy 8', 'address': '6198 Greenbelt Rd, Greenbelt, MD  20770, United States', 'location': {'lat': 38.9994144, 'lon': -76.907867}, 'category': 'MovieTheater'}, {'name': 'Hollywood Shopping Center', 'address': '9801 Rhode Island Ave, College Park, MD  20740, United States', 'location': {'lat': 39.0143196, 'lon': -76.9196925}, 'category': 'Store'}, {'name': 'Essential Day Spa', 'address': '10250 Baltimore Ave\\nUnit D\\nCollege Park, MD  20740\\nUnited States', 'location': {'lat': 39.022529, 'lon': -76.9259158}, 'category': 'Spa'}, {'name': 'Parkway Spa Asian Massage', 'address': '5507 Landover Rd, Hyattsville, MD 20784, United States', 'location': {'lat': 38.939225, 'lon': -76.9224179}, 'category': 'Spa'}, {'name': 'Red Dirt Studio', 'address': '4051 34th St, Mount Rainier, MD  20712, United States', 'location': {'lat': 38.93996, 'lon': -76.9610277}, 'category': 'AmusementPark'}, {'name': 'Hillandale Shopping Center', 'address': '1620 Elton Rd, Silver Spring, MD  20903, United States', 'location': {'lat': 39.0213229, 'lon': -76.9752482}, 'category': 'Store'}, {'name': 'Elite soccer youth development Academy inc', 'address': '10169 New Hampshire Ave, Silver Spring, MD  20903, United States', 'location': {'lat': 39.0221461, 'lon': -76.976467}, 'category': 'Soccer'}, {'name': 'Greenway Shopping Center', 'address': '7547 Greenbelt Rd, Greenbelt, MD  20770, United States', 'location': {'lat': 38.9922394, 'lon': -76.8786699}, 'category': 'Store'}, {'name': 'AMC Center Park 8', 'address': '4001 Powder Mill Rd, Beltsville, MD  20705, United States', 'location': {'lat': 39.046517, 'lon': -76.93702}, 'category': 'MovieTheater'}, {'name': 'Quick Feet Soccer Training', 'address': '7600 Ora Glen Dr, Ste 1250, Greenbelt, MD  20770, United States', 'location': {'lat': 38.9916217, 'lon': -76.8748616}, 'category': 'Soccer'}, {'name': 'Greenbelt Cinema', 'address': '129 Centerway, Greenbelt, MD  20770, United States', 'location': {'lat': 39.0013724, 'lon': -76.8761015}, 'category': 'MovieTheater'}, {'name': 'Takoma Park Folk Festival', 'address': '7010 Woodland Ave, Takoma Park, MD  20912, United States', 'location': {'lat': 38.976146, 'lon': -77.002748}, 'category': 'AmusementPark'}, {'name': 'United Elite Soccer Club', 'address': '7800 Good Luck Rd, Lanham, MD  20706, United States', 'location': {'lat': 38.9806493, 'lon': -76.8707841}, 'category': 'Soccer'}, {'name': 'Total Soccer Arena', 'address': '8400 Ardwick Ardmore Rd, Landover, MD 20785, United States', 'location': {'lat': 38.942501, 'lon': -76.8634319}, 'category': 'Soccer'}, {'name': 'Culture', 'address': '2006 Fenwick St NE, Washington, DC  20002, United States', 'location': {'lat': 38.9146324, 'lon': -76.9852431}, 'category': 'Culture'}, {'name': 'Bryant Street NE', 'address': '680 Rhode Island Ave NE, Washington, DC  20002, United States', 'location': {'lat': 38.9220672, 'lon': -76.9969164}, 'category': 'Store'}, {'name': 'Alamo Drafthouse Cinema DC Bryant Street', 'address': '630 Rhode Island Ave NE, Washington, DC  20002, United States', 'location': {'lat': 38.9222409, 'lon': -76.9977075}, 'category': 'MovieTheater'}, {'name': 'Regal Majestic & IMAX', 'address': '900 Ellsworth Dr, Silver Spring, MD  20910, United States', 'location': {'lat': 38.9966681, 'lon': -77.0254533}, 'category': 'MovieTheater'}, {'name': 'Citizens & Culture', 'address': '8113 Georgia Ave, Silver Spring, MD  20910, United States', 'location': {'lat': 38.9909441, 'lon': -77.0262427}, 'category': 'Restaurant'}, {'name': 'Langston Golf Course', 'address': '2600 Benning Rd NE, Washington, DC  20002, United States', 'location': {'lat': 38.9008777, 'lon': -76.9674435}, 'category': 'Golf'}, {'name': 'Sligo Creek Golf Course', 'address': '9701 Sligo Creek Pkwy, Silver Spring, MD  20901, United States', 'location': {'lat': 39.0139932, 'lon': -77.0262775}, 'category': 'Golf'}, {'name': 'FourSoccer', 'address': '2118 Third St NE, Unit B, Washington, DC  20002, United States', 'location': {'lat': 38.9187258, 'lon': -77.0022845}, 'category': 'Soccer'}, {'name': \"Granville Moore's\", 'address': '1238 H St NE, Washington, DC  20002, United States', 'location': {'lat': 38.9004267, 'lon': -76.988931}, 'category': 'Restaurant'}, {'name': 'Gunpowder Golf Course', 'address': '14300 Old Gunpowder Rd, Laurel, MD 20707, United States', 'location': {'lat': 39.0864269, 'lon': -76.9201451}, 'category': 'Golf'}, {'name': 'Rock Creek Park Golf Course', 'address': '6100 16th St NW, Washington, DC  20011, United States', 'location': {'lat': 38.966433, 'lon': -77.0407677}, 'category': 'Golf'}, {'name': 'Bell & Lincoln Soccer Field', 'address': '3201 Hiatt Pl NW, Washington, DC  20010, United States', 'location': {'lat': 38.929824, 'lon': -77.034336}, 'category': 'Soccer'}, {'name': 'Morgan Black Spas', 'address': '10111 Martin Luther King Jr Hwy, Bowie, MD  20720, United States', 'location': {'lat': 38.9553445, 'lon': -76.8287839}, 'category': 'Spa'}, {'name': \"Caruso's Grocery\", 'address': '914 14th St SE, Washington, DC  20003, United States', 'location': {'lat': 38.879753, 'lon': -76.985214}, 'category': 'Restaurant'}, {'name': \"Trattoria Alberto's Italian Cuisine\", 'address': '506 Eighth St SE, Washington, DC  20003, United States', 'location': {'lat': 38.8824609, 'lon': -76.994699}, 'category': 'Restaurant'}, {'name': 'RPM Italian', 'address': '650 K Street NW, Washington, DC 20001, United States', 'location': {'lat': 38.9021968, 'lon': -77.0209301}, 'category': 'Restaurant'}, {'name': 'Belga Cafe', 'address': '514 Eighth St SE, Washington, DC  20003, United States', 'location': {'lat': 38.8821764, 'lon': -76.9947356}, 'category': 'Restaurant'}, {'name': 'CityCenterDC', 'address': '825 Tenth St NW, Washington, DC 20001, United States', 'location': {'lat': 38.9004601, 'lon': -77.0255113}, 'category': 'Store'}, {'name': 'AMC Magic Johnson Capital Center 12', 'address': '800 Shoppers Way, Upper Marlboro, MD  20774, United States', 'location': {'lat': 38.901442, 'lon': -76.847452}, 'category': 'MovieTheater'}, {'name': 'Capital Blossom Day Spa', 'address': '1805 Belmont Rd NW, Washington, DC  20009, United States', 'location': {'lat': 38.9207606, 'lon': -77.0423994}, 'category': 'Spa'}, {'name': 'Etalon Day Spa', 'address': '707 D St NW, Washington, DC  20004, United States', 'location': {'lat': 38.8949455, 'lon': -77.0223134}, 'category': 'Spa'}, {'name': 'Aura spa - Yards', 'address': '1212 Fourth St SE, Ste 170, Washington, DC  20003, United States', 'location': {'lat': 38.8753353, 'lon': -77.0000881}, 'category': 'Spa'}, {'name': 'Grazie Nonna', 'address': '1100 15th St NW, Washington, DC  20005, United States', 'location': {'lat': 38.9042968, 'lon': -77.0352845}, 'category': 'Restaurant'}, {'name': 'Culture House', 'address': '700 Delaware Ave SW, Washington, DC  20024, United States', 'location': {'lat': 38.8804475, 'lon': -77.0119017}, 'category': 'Culture'}, {'name': 'Spa Logic', 'address': '1721 Connecticut Ave NW, Washington, DC  20009, United States', 'location': {'lat': 38.913265, 'lon': -77.045313}, 'category': 'Beauty'}, {'name': \"St. Arnold's Mussel Bar\", 'address': '1827 Jefferson Pl NW, Washington, DC  20036, United States', 'location': {'lat': 38.9065335, 'lon': -77.0427796}, 'category': 'Restaurant'}, {'name': 'Enterprise Golf Course', 'address': '2802 Enterprise Rd, Mitchellville, MD 20721, United States', 'location': {'lat': 38.928356, 'lon': -76.81691}, 'category': 'Golf'}, {'name': 'Regal Cinemas', 'address': '14716 Baltimore Ave, Laurel, MD  20707, United States', 'location': {'lat': 39.0946795, 'lon': -76.8585595}, 'category': 'MovieTheater'}, {'name': 'East Potomac Golf Course', 'address': '972 Ohio Dr SW, Washington, DC  20024, United States', 'location': {'lat': 38.8745842, 'lon': -77.0267934}, 'category': 'Golf'}, {'name': 'il Canale', 'address': '1065 31st St NW, Washington, DC  20007, United States', 'location': {'lat': 38.9045021, 'lon': -77.0609403}, 'category': 'Restaurant'}, {'name': 'The Sovereign', 'address': '1206 Wisconsin Ave NW, Washington, DC  20007, United States', 'location': {'lat': 38.9055479, 'lon': -77.063183}, 'category': 'Restaurant'}, {'name': 'Filomena Ristorante', 'address': '1063 Wisconsin Ave NW, Washington, DC  20007, United States', 'location': {'lat': 38.9044418, 'lon': -77.0626614}, 'category': 'Restaurant'}, {'name': 'Alamo Drafthouse Cinema DC - Crystal City', 'address': '1660 Crystal Dr, Arlington, VA  22202, United States', 'location': {'lat': 38.8589422, 'lon': -77.0495868}, 'category': 'MovieTheater'}, {'name': 'Bowie Golf Club', 'address': '7420 Laurel Bowie Rd\\nBowie, MD  20715\\nUnited States', 'location': {'lat': 38.9960736, 'lon': -76.7622685}, 'category': 'Golf'}, {'name': 'Et Voila', 'address': '5120 MacArthur Blvd NW, Washington, DC  20016, United States', 'location': {'lat': 38.925407, 'lon': -77.102364}, 'category': 'Restaurant'}, {'name': 'BATWING Coaster', 'address': '13710 Central Ave, Bowie, MD  20721, United States', 'location': {'lat': 38.9100156, 'lon': -76.7782223}, 'category': 'AmusementPark'}, {'name': 'Six Flags America', 'address': '13710 Central Ave\\nMitchellville, MD 20721\\nUnited States', 'location': {'lat': 38.9062462, 'lon': -76.7728472}, 'category': 'AmusementPark'}, {'name': 'Hurricane Harbor', 'address': '13710 Central Ave, Bowie, MD 20721, United States', 'location': {'lat': 38.906094, 'lon': -76.772521}, 'category': 'AmusementPark'}, {'name': 'Woodhouse Spa', 'address': '2 Paseo Dr, Rockville, MD  20852, United States', 'location': {'lat': 39.0426612, 'lon': -77.112211}, 'category': 'Spa'}, {'name': 'Bowie Town Center', 'address': '15606 Emerald Way, Bowie, MD  20716, United States', 'location': {'lat': 38.9442596, 'lon': -76.7347193}, 'category': 'Store'}, {'name': 'Mannequin Pis', 'address': '18064 Georgia Ave, Olney, MD  20832, United States', 'location': {'lat': 39.1524126, 'lon': -77.0676249}, 'category': 'Restaurant'}, {'name': 'The Capital Wheel', 'address': '141 American Way, Oxon Hill, MD 20745, United States', 'location': {'lat': 38.7856274, 'lon': -77.0191705}, 'category': 'AmusementPark'}, {'name': 'Rockville Soccer Supplies', 'address': '837-F Rockville Pike, Rockville, MD 20852, United States', 'location': {'lat': 39.0744938, 'lon': -77.1382928}, 'category': 'Store'}, {'name': 'Great Waves Waterpark', 'address': '4001 Eisenhower Ave, Alexandria, VA 22304, United States', 'location': {'lat': 38.8050182, 'lon': -77.1004407}, 'category': 'AmusementPark'}, {'name': 'Soccer Dome', 'address': '7330 Montevideo Rd, Jessup, MD  20794, United States', 'location': {'lat': 39.1687137, 'lon': -76.7749284}, 'category': 'Soccer'}, {'name': 'Maryland Soccer Foundation', 'address': '18031 Central Park Cir, Boyds, MD 20841, United States', 'location': {'lat': 39.1527383, 'lon': -77.3114627}, 'category': 'Soccer'}, {'name': 'Freetjes', 'address': '1448 Light St, Baltimore, MD  21230, United States', 'location': {'lat': 39.2729366, 'lon': -76.6120387}, 'category': 'Restaurant'}, {'name': 'Cock and Bowl', 'address': '302 Poplar Alley, Occoquan, VA 22125, United States', 'location': {'lat': 38.6838156, 'lon': -77.2610078}, 'category': 'Restaurant'}, {'name': \"The Brewer's Art\", 'address': '1106 N Charles St, Baltimore, MD  21201, United States', 'location': {'lat': 39.3027715, 'lon': -76.6163875}, 'category': 'Brewery'}, {'name': 'Volcano Island Waterpark', 'address': '20015 Volcano Island Dr, Sterling, VA 20165, United States', 'location': {'lat': 39.0605037, 'lon': -77.3886448}, 'category': 'AmusementPark'}, {'name': 'Foothill St', 'address': 'Foothill St, Woodbridge, VA  22192, United States', 'location': {'lat': 38.691924520977786, 'lon': -77.3075897230227}, 'category': 'Football'}, {'name': 'Adventure Park USA', 'address': '11113 W Baldwin Rd, Monrovia, MD 21770, United States', 'location': {'lat': 39.3792848, 'lon': -77.2783685}, 'category': 'AmusementPark'}]}\n"
     ]
    }
   ],
   "source": [
    "#1. pass in the preferenes and location, sort preferences by volume and get the 10 most popular (if rest are ones randomly choose)\n",
    "#2. then make the proximitiy request and get the list\n",
    "class ProximityRecommendationRequest(BaseModel):\n",
    "    locations: List[Location]\n",
    "    interests: List[str]\n",
    "\n",
    "\n",
    "async def get_proximity_recommendations(request: ProximityRecommendationRequest):\n",
    "    \"\"\"\n",
    "    Generate recommendations based on the centroid of provided user locations.\n",
    "    \"\"\"\n",
    "    centroid = calculate_centroid(request.locations)\n",
    "    print(centroid)\n",
    "    try:\n",
    "        all_recommendations = []\n",
    "        for interest in request.interests:\n",
    "            results = await apple_maps_service.search(interest, centroid['lat'], centroid['lon'])\n",
    "            for result in results:\n",
    "                if not result['category']:\n",
    "                    result['category'] = interest  \n",
    "\n",
    "            all_recommendations.extend(results)\n",
    "\n",
    "        # Sort recommendations by distance from centroid (if needed)\n",
    "        sorted_recommendations = sorted(\n",
    "            all_recommendations,\n",
    "            key=lambda x: ((x['location']['lat'] - centroid['lat'])**2 +\n",
    "                           (x['location']['lon'] - centroid['lon'])**2)**0.5\n",
    "        )\n",
    "\n",
    "        # Limit to top N recommendations if needed\n",
    "        top_recommendations = sorted_recommendations\n",
    "\n",
    "        return {\"recommendations\": sorted_recommendations}\n",
    "    except Exception as e:\n",
    "        raise HTTPException(\n",
    "            status_code=500, detail=f\"Error getting recommendations: {str(e)}\")\n",
    "\n",
    "locs = await get_proximity_recommendations(ProximityRecommendationRequest(locations=locations, interests=interestsPassin))\n",
    "print(locs)"
   ]
  },
  {
   "cell_type": "code",
   "execution_count": 18,
   "metadata": {},
   "outputs": [
    {
     "name": "stdout",
     "output_type": "stream",
     "text": [
      "83\n"
     ]
    }
   ],
   "source": [
    "import json\n",
    "print(len(locs['recommendations']))"
   ]
  },
  {
   "cell_type": "code",
   "execution_count": null,
   "metadata": {},
   "outputs": [],
   "source": []
  }
 ],
 "metadata": {
  "kernelspec": {
   "display_name": "headStarterBackend",
   "language": "python",
   "name": "python3"
  },
  "language_info": {
   "codemirror_mode": {
    "name": "ipython",
    "version": 3
   },
   "file_extension": ".py",
   "mimetype": "text/x-python",
   "name": "python",
   "nbconvert_exporter": "python",
   "pygments_lexer": "ipython3",
   "version": "3.12.4"
  }
 },
 "nbformat": 4,
 "nbformat_minor": 2
}
